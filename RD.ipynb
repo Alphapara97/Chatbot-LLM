{
  "cells": [
    {
      "cell_type": "code",
      "execution_count": 144,
      "id": "2b1c7d09-2e9f-4ba3-ab66-d80884f32a04",
      "metadata": {
        "colab": {
          "base_uri": "https://localhost:8080/"
        },
        "id": "2b1c7d09-2e9f-4ba3-ab66-d80884f32a04",
        "outputId": "5c516863-eb9d-4b6c-daeb-fae79cb3b245"
      },
      "outputs": [
        {
          "output_type": "stream",
          "name": "stdout",
          "text": [
            "Requirement already satisfied: pip in /usr/local/lib/python3.10/dist-packages (23.3.2)\n",
            "\u001b[33mWARNING: Running pip as the 'root' user can result in broken permissions and conflicting behaviour with the system package manager. It is recommended to use a virtual environment instead: https://pip.pypa.io/warnings/venv\u001b[0m\u001b[33m\n",
            "\u001b[0m"
          ]
        }
      ],
      "source": [
        "pip install --upgrade pip"
      ]
    },
    {
      "cell_type": "code",
      "execution_count": 145,
      "id": "b5bc0c5d-ab2c-46ae-a92c-86c06a6a18ec",
      "metadata": {
        "colab": {
          "base_uri": "https://localhost:8080/"
        },
        "id": "b5bc0c5d-ab2c-46ae-a92c-86c06a6a18ec",
        "outputId": "0a891b5e-1b3d-4d01-a641-4520bc04515f"
      },
      "outputs": [
        {
          "output_type": "stream",
          "name": "stdout",
          "text": [
            "Requirement already satisfied: google-generativeai in /usr/local/lib/python3.10/dist-packages (0.3.1)\n",
            "Requirement already satisfied: google-ai-generativelanguage==0.4.0 in /usr/local/lib/python3.10/dist-packages (from google-generativeai) (0.4.0)\n",
            "Requirement already satisfied: google-auth in /usr/local/lib/python3.10/dist-packages (from google-generativeai) (2.17.3)\n",
            "Requirement already satisfied: google-api-core in /usr/local/lib/python3.10/dist-packages (from google-generativeai) (2.11.1)\n",
            "Requirement already satisfied: protobuf in /usr/local/lib/python3.10/dist-packages (from google-generativeai) (3.20.3)\n",
            "Requirement already satisfied: tqdm in /usr/local/lib/python3.10/dist-packages (from google-generativeai) (4.66.1)\n",
            "Requirement already satisfied: proto-plus<2.0.0dev,>=1.22.3 in /usr/local/lib/python3.10/dist-packages (from google-ai-generativelanguage==0.4.0->google-generativeai) (1.23.0)\n",
            "Requirement already satisfied: googleapis-common-protos<2.0.dev0,>=1.56.2 in /usr/local/lib/python3.10/dist-packages (from google-api-core->google-generativeai) (1.62.0)\n",
            "Requirement already satisfied: requests<3.0.0.dev0,>=2.18.0 in /usr/local/lib/python3.10/dist-packages (from google-api-core->google-generativeai) (2.31.0)\n",
            "Requirement already satisfied: cachetools<6.0,>=2.0.0 in /usr/local/lib/python3.10/dist-packages (from google-auth->google-generativeai) (5.3.2)\n",
            "Requirement already satisfied: pyasn1-modules>=0.2.1 in /usr/local/lib/python3.10/dist-packages (from google-auth->google-generativeai) (0.3.0)\n",
            "Requirement already satisfied: six>=1.9.0 in /usr/local/lib/python3.10/dist-packages (from google-auth->google-generativeai) (1.16.0)\n",
            "Requirement already satisfied: rsa<5,>=3.1.4 in /usr/local/lib/python3.10/dist-packages (from google-auth->google-generativeai) (4.9)\n",
            "Requirement already satisfied: grpcio<2.0dev,>=1.33.2 in /usr/local/lib/python3.10/dist-packages (from google-api-core[grpc]!=2.0.*,!=2.1.*,!=2.10.*,!=2.2.*,!=2.3.*,!=2.4.*,!=2.5.*,!=2.6.*,!=2.7.*,!=2.8.*,!=2.9.*,<3.0.0dev,>=1.34.0->google-ai-generativelanguage==0.4.0->google-generativeai) (1.60.0)\n",
            "Requirement already satisfied: grpcio-status<2.0.dev0,>=1.33.2 in /usr/local/lib/python3.10/dist-packages (from google-api-core[grpc]!=2.0.*,!=2.1.*,!=2.10.*,!=2.2.*,!=2.3.*,!=2.4.*,!=2.5.*,!=2.6.*,!=2.7.*,!=2.8.*,!=2.9.*,<3.0.0dev,>=1.34.0->google-ai-generativelanguage==0.4.0->google-generativeai) (1.48.2)\n",
            "Requirement already satisfied: pyasn1<0.6.0,>=0.4.6 in /usr/local/lib/python3.10/dist-packages (from pyasn1-modules>=0.2.1->google-auth->google-generativeai) (0.5.1)\n",
            "Requirement already satisfied: charset-normalizer<4,>=2 in /usr/local/lib/python3.10/dist-packages (from requests<3.0.0.dev0,>=2.18.0->google-api-core->google-generativeai) (3.3.2)\n",
            "Requirement already satisfied: idna<4,>=2.5 in /usr/local/lib/python3.10/dist-packages (from requests<3.0.0.dev0,>=2.18.0->google-api-core->google-generativeai) (3.6)\n",
            "Requirement already satisfied: urllib3<3,>=1.21.1 in /usr/local/lib/python3.10/dist-packages (from requests<3.0.0.dev0,>=2.18.0->google-api-core->google-generativeai) (1.26.18)\n",
            "Requirement already satisfied: certifi>=2017.4.17 in /usr/local/lib/python3.10/dist-packages (from requests<3.0.0.dev0,>=2.18.0->google-api-core->google-generativeai) (2023.11.17)\n",
            "\u001b[33mWARNING: Running pip as the 'root' user can result in broken permissions and conflicting behaviour with the system package manager. It is recommended to use a virtual environment instead: https://pip.pypa.io/warnings/venv\u001b[0m\u001b[33m\n",
            "\u001b[0m"
          ]
        }
      ],
      "source": [
        "pip install google-generativeai"
      ]
    },
    {
      "cell_type": "code",
      "execution_count": 146,
      "id": "13b87c38-9762-4d0c-a70e-bc0bc4a06207",
      "metadata": {
        "colab": {
          "base_uri": "https://localhost:8080/"
        },
        "id": "13b87c38-9762-4d0c-a70e-bc0bc4a06207",
        "outputId": "c245b9b7-eb0b-4c0a-99bf-3291b3ff8c31"
      },
      "outputs": [
        {
          "output_type": "stream",
          "name": "stdout",
          "text": [
            "Requirement already satisfied: langchain in /usr/local/lib/python3.10/dist-packages (0.0.353)\n",
            "Requirement already satisfied: PyYAML>=5.3 in /usr/local/lib/python3.10/dist-packages (from langchain) (6.0.1)\n",
            "Requirement already satisfied: SQLAlchemy<3,>=1.4 in /usr/local/lib/python3.10/dist-packages (from langchain) (2.0.23)\n",
            "Requirement already satisfied: aiohttp<4.0.0,>=3.8.3 in /usr/local/lib/python3.10/dist-packages (from langchain) (3.9.1)\n",
            "Requirement already satisfied: async-timeout<5.0.0,>=4.0.0 in /usr/local/lib/python3.10/dist-packages (from langchain) (4.0.3)\n",
            "Requirement already satisfied: dataclasses-json<0.7,>=0.5.7 in /usr/local/lib/python3.10/dist-packages (from langchain) (0.6.3)\n",
            "Requirement already satisfied: jsonpatch<2.0,>=1.33 in /usr/local/lib/python3.10/dist-packages (from langchain) (1.33)\n",
            "Requirement already satisfied: langchain-community<0.1,>=0.0.2 in /usr/local/lib/python3.10/dist-packages (from langchain) (0.0.7)\n",
            "Requirement already satisfied: langchain-core<0.2,>=0.1.4 in /usr/local/lib/python3.10/dist-packages (from langchain) (0.1.4)\n",
            "Requirement already satisfied: langsmith<0.1.0,>=0.0.70 in /usr/local/lib/python3.10/dist-packages (from langchain) (0.0.75)\n",
            "Requirement already satisfied: numpy<2,>=1 in /usr/local/lib/python3.10/dist-packages (from langchain) (1.23.5)\n",
            "Requirement already satisfied: pydantic<3,>=1 in /usr/local/lib/python3.10/dist-packages (from langchain) (1.10.13)\n",
            "Requirement already satisfied: requests<3,>=2 in /usr/local/lib/python3.10/dist-packages (from langchain) (2.31.0)\n",
            "Requirement already satisfied: tenacity<9.0.0,>=8.1.0 in /usr/local/lib/python3.10/dist-packages (from langchain) (8.2.3)\n",
            "Requirement already satisfied: attrs>=17.3.0 in /usr/local/lib/python3.10/dist-packages (from aiohttp<4.0.0,>=3.8.3->langchain) (23.1.0)\n",
            "Requirement already satisfied: multidict<7.0,>=4.5 in /usr/local/lib/python3.10/dist-packages (from aiohttp<4.0.0,>=3.8.3->langchain) (6.0.4)\n",
            "Requirement already satisfied: yarl<2.0,>=1.0 in /usr/local/lib/python3.10/dist-packages (from aiohttp<4.0.0,>=3.8.3->langchain) (1.9.4)\n",
            "Requirement already satisfied: frozenlist>=1.1.1 in /usr/local/lib/python3.10/dist-packages (from aiohttp<4.0.0,>=3.8.3->langchain) (1.4.1)\n",
            "Requirement already satisfied: aiosignal>=1.1.2 in /usr/local/lib/python3.10/dist-packages (from aiohttp<4.0.0,>=3.8.3->langchain) (1.3.1)\n",
            "Requirement already satisfied: marshmallow<4.0.0,>=3.18.0 in /usr/local/lib/python3.10/dist-packages (from dataclasses-json<0.7,>=0.5.7->langchain) (3.20.1)\n",
            "Requirement already satisfied: typing-inspect<1,>=0.4.0 in /usr/local/lib/python3.10/dist-packages (from dataclasses-json<0.7,>=0.5.7->langchain) (0.9.0)\n",
            "Requirement already satisfied: jsonpointer>=1.9 in /usr/local/lib/python3.10/dist-packages (from jsonpatch<2.0,>=1.33->langchain) (2.4)\n",
            "Requirement already satisfied: anyio<5,>=3 in /usr/local/lib/python3.10/dist-packages (from langchain-core<0.2,>=0.1.4->langchain) (3.7.1)\n",
            "Requirement already satisfied: packaging<24.0,>=23.2 in /usr/local/lib/python3.10/dist-packages (from langchain-core<0.2,>=0.1.4->langchain) (23.2)\n",
            "Requirement already satisfied: typing-extensions>=4.2.0 in /usr/local/lib/python3.10/dist-packages (from pydantic<3,>=1->langchain) (4.9.0)\n",
            "Requirement already satisfied: charset-normalizer<4,>=2 in /usr/local/lib/python3.10/dist-packages (from requests<3,>=2->langchain) (3.3.2)\n",
            "Requirement already satisfied: idna<4,>=2.5 in /usr/local/lib/python3.10/dist-packages (from requests<3,>=2->langchain) (3.6)\n",
            "Requirement already satisfied: urllib3<3,>=1.21.1 in /usr/local/lib/python3.10/dist-packages (from requests<3,>=2->langchain) (1.26.18)\n",
            "Requirement already satisfied: certifi>=2017.4.17 in /usr/local/lib/python3.10/dist-packages (from requests<3,>=2->langchain) (2023.11.17)\n",
            "Requirement already satisfied: greenlet!=0.4.17 in /usr/local/lib/python3.10/dist-packages (from SQLAlchemy<3,>=1.4->langchain) (3.0.2)\n",
            "Requirement already satisfied: sniffio>=1.1 in /usr/local/lib/python3.10/dist-packages (from anyio<5,>=3->langchain-core<0.2,>=0.1.4->langchain) (1.3.0)\n",
            "Requirement already satisfied: exceptiongroup in /usr/local/lib/python3.10/dist-packages (from anyio<5,>=3->langchain-core<0.2,>=0.1.4->langchain) (1.2.0)\n",
            "Requirement already satisfied: mypy-extensions>=0.3.0 in /usr/local/lib/python3.10/dist-packages (from typing-inspect<1,>=0.4.0->dataclasses-json<0.7,>=0.5.7->langchain) (1.0.0)\n",
            "\u001b[33mWARNING: Running pip as the 'root' user can result in broken permissions and conflicting behaviour with the system package manager. It is recommended to use a virtual environment instead: https://pip.pypa.io/warnings/venv\u001b[0m\u001b[33m\n",
            "\u001b[0m"
          ]
        }
      ],
      "source": [
        "pip install langchain\n"
      ]
    },
    {
      "cell_type": "code",
      "execution_count": 147,
      "id": "be49c53c-4cae-4a3e-84d1-98dab974853e",
      "metadata": {
        "id": "be49c53c-4cae-4a3e-84d1-98dab974853e"
      },
      "outputs": [],
      "source": [
        "import google.generativeai as genai\n",
        "from IPython.display import display\n",
        "from IPython.display import Markdown\n",
        "import pathlib\n",
        "import textwrap\n",
        "import os"
      ]
    },
    {
      "cell_type": "code",
      "execution_count": 149,
      "id": "7a964379",
      "metadata": {
        "id": "7a964379"
      },
      "outputs": [],
      "source": [
        "google_api_key = os.environ.get('GOOGLE_API_KEY')\n"
      ]
    },
    {
      "cell_type": "code",
      "execution_count": 150,
      "id": "10baad77-c4a3-4f7a-ba4d-d82053a9cc5b",
      "metadata": {
        "id": "10baad77-c4a3-4f7a-ba4d-d82053a9cc5b"
      },
      "outputs": [],
      "source": [
        "genai.configure(api_key=google_api_key)\n",
        "\n",
        "model = genai.GenerativeModel('gemini-pro')\n"
      ]
    },
    {
      "cell_type": "code",
      "execution_count": 151,
      "id": "77526959-2e05-4b45-aff8-34d43253a5fe",
      "metadata": {
        "colab": {
          "base_uri": "https://localhost:8080/",
          "height": 52
        },
        "id": "77526959-2e05-4b45-aff8-34d43253a5fe",
        "outputId": "d17e5b99-913d-426d-8fad-1eb0a8d90026"
      },
      "outputs": [
        {
          "output_type": "stream",
          "name": "stdout",
          "text": [
            "models/gemini-pro\n",
            "models/gemini-pro-vision\n"
          ]
        }
      ],
      "source": [
        "for m in genai.list_models():\n",
        "  if 'generateContent' in m.supported_generation_methods:\n",
        "    print(m.name)"
      ]
    },
    {
      "cell_type": "code",
      "execution_count": 152,
      "id": "78afde86-cdb5-4b19-b4a2-38f921aa233c",
      "metadata": {
        "id": "78afde86-cdb5-4b19-b4a2-38f921aa233c"
      },
      "outputs": [],
      "source": [
        "generation_config = {\n",
        "  \"temperature\": 0,\n",
        "  \"top_p\": 1,\n",
        "  \"top_k\": 1,\n",
        "  \"max_output_tokens\": 4096,\n",
        "}\n",
        "\n",
        "safety_settings = [\n",
        "  {\n",
        "    \"category\": \"HARM_CATEGORY_HARASSMENT\",\n",
        "    \"threshold\": \"BLOCK_ONLY_HIGH\"\n",
        "  },\n",
        "  {\n",
        "    \"category\": \"HARM_CATEGORY_HATE_SPEECH\",\n",
        "    \"threshold\": \"BLOCK_ONLY_HIGH\"\n",
        "  },\n",
        "  {\n",
        "    \"category\": \"HARM_CATEGORY_SEXUALLY_EXPLICIT\",\n",
        "    \"threshold\": \"BLOCK_ONLY_HIGH\"\n",
        "  },\n",
        "  {\n",
        "    \"category\": \"HARM_CATEGORY_DANGEROUS_CONTENT\",\n",
        "    \"threshold\": \"BLOCK_ONLY_HIGH\"\n",
        "  },\n",
        "]\n",
        "\n",
        "\n",
        "model = genai.GenerativeModel(model_name=\"gemini-pro\",\n",
        "                              generation_config=generation_config,\n",
        "                              safety_settings=safety_settings)"
      ]
    },
    {
      "cell_type": "code",
      "execution_count": 153,
      "id": "c3d8c404-5ead-4279-ac4a-95a4158d45c8",
      "metadata": {
        "colab": {
          "base_uri": "https://localhost:8080/",
          "height": 34
        },
        "id": "c3d8c404-5ead-4279-ac4a-95a4158d45c8",
        "outputId": "1ab15be5-3da9-4261-9189-6d5379bb1954"
      },
      "outputs": [
        {
          "output_type": "stream",
          "name": "stdout",
          "text": [
            "cold\n"
          ]
        }
      ],
      "source": [
        "response = model.generate_content(\"The opposite of hot is\")\n",
        "print(response.text)"
      ]
    },
    {
      "cell_type": "raw",
      "id": "26cf297b-4ee2-4d72-adb2-5af548bdb45e",
      "metadata": {
        "id": "26cf297b-4ee2-4d72-adb2-5af548bdb45e"
      },
      "source": [
        "# Import the PyPDF2 library\n",
        "from PyPDF2 import PdfFileReader\n",
        "\n",
        "# Open the PDF file in binary mode\n",
        "with open('Chapter 1.pdf', 'rb') as file:\n",
        "    # Create a PDF reader object\n",
        "    reader = PdfFileReader(file)\n",
        "\n",
        "    # Get the number of pages in the PDF file\n",
        "    num_pages = reader.getNumPages()\n",
        "\n",
        "    # Iterate over all the pages in the PDF file\n",
        "    for page_num in range(num_pages):\n",
        "        # Get the page object\n",
        "        page = reader.getPage(page_num)\n",
        "\n",
        "        # Extract the text from the page\n",
        "        text = page.extractText()\n",
        "\n",
        "        # Print the text from the page\n",
        "        print(text)"
      ]
    },
    {
      "cell_type": "markdown",
      "id": "87390d28-3a4b-459a-a81c-a0b75a3fdd50",
      "metadata": {
        "id": "87390d28-3a4b-459a-a81c-a0b75a3fdd50"
      },
      "source": [
        "QA"
      ]
    },
    {
      "cell_type": "raw",
      "id": "68725815-951f-449b-a078-c31fb1ca8a97",
      "metadata": {
        "id": "68725815-951f-449b-a078-c31fb1ca8a97"
      },
      "source": [
        "from transformers import pipeline\n",
        "\n",
        "model_checkpoint = \"consciousAI/question-answering-roberta-base-s-v2\"\n"
      ]
    },
    {
      "cell_type": "code",
      "execution_count": 154,
      "id": "f80feb77-a096-4bae-a08a-9efd0a14090a",
      "metadata": {
        "id": "f80feb77-a096-4bae-a08a-9efd0a14090a"
      },
      "outputs": [],
      "source": [
        "question = \"How many stitches?\""
      ]
    },
    {
      "cell_type": "raw",
      "id": "42c817be-7274-4d80-8ebb-a3e9ba4ce25f",
      "metadata": {
        "id": "42c817be-7274-4d80-8ebb-a3e9ba4ce25f"
      },
      "source": [
        "question_answerer = pipeline(\"question-answering\", model=model_checkpoint)\n",
        "question_answerer(question=question, context=text)"
      ]
    },
    {
      "cell_type": "code",
      "execution_count": 154,
      "id": "edaeb775-ce8e-4b96-81bf-bc26f55ebc0c",
      "metadata": {
        "id": "edaeb775-ce8e-4b96-81bf-bc26f55ebc0c"
      },
      "outputs": [],
      "source": []
    },
    {
      "cell_type": "code",
      "execution_count": 155,
      "id": "8284db8c-312e-4d33-9d2b-1943ab26745b",
      "metadata": {
        "id": "8284db8c-312e-4d33-9d2b-1943ab26745b"
      },
      "outputs": [],
      "source": [
        "sample=\"\"\"Mark Watney: Alright, let's do the math again. How much food do we have left? Beth Johanssen: According to my calculations, we have enough rations to last us 300 days. Chris Beck: But Mark, you've been rationing the food for over a year now. We were only supposed to be here for 30 days. Mark Watney: Yeah, well, plans changed. I'm not ready to give up just yet. We'll figure something out.\n",
        "Commander Melissa Lewis: Mark, we've been working non-stop trying to find a solution. The next supply mission isn't for another 4 years. We need to face the reality.\n",
        "Mark Watney: Reality? You want to talk about reality? The reality is that I'm still alive, and I intend to stay that way. I'm not going to let this planet kill me. Johanssen: Mark, we're all behind you. We just need to find a way to sustain ourselves until help arrives. Mark Watney: Well, luckily I'm a botanist. I'm going to science the shit out of this. I'm going to grow food on a planet where nothing grows. Beck: That's the spirit, Mark! We'll support you in any way we can.\"\"\""
      ]
    },
    {
      "cell_type": "raw",
      "id": "20f01459-b751-44a2-b265-a2402a7317cd",
      "metadata": {
        "id": "20f01459-b751-44a2-b265-a2402a7317cd"
      },
      "source": [
        "from transformers import PegasusForConditionalGeneration, PegasusTokenizer\n",
        "\n",
        "\n",
        "model_name = \"google/pegasus-xsum\"\n",
        "model = PegasusForConditionalGeneration.from_pretrained(model_name)\n",
        "tokenizer = PegasusTokenizer.from_pretrained(model_name)\n",
        "\n",
        "def generate_summary(text):\n",
        "\n",
        "    inputs = tokenizer(text, max_length=1024, return_tensors=\"pt\", truncation=True)\n",
        "    summary_ids = model.generate(**inputs)\n",
        "\n",
        "\n",
        "    summary = tokenizer.decode(summary_ids[0], skip_special_tokens=True)\n",
        "    return summary\n",
        "\n",
        "summary = generate_summary(sample)\n",
        "\n",
        "# Print the generated summary\n",
        "print(\"Input Text:\")\n",
        "print(sample)\n",
        "print(\"\\nGenerated Summary:\")\n",
        "print(summary)\n"
      ]
    },
    {
      "cell_type": "markdown",
      "id": "360ba0e7-c779-403c-85c7-29ae4ed4268a",
      "metadata": {
        "id": "360ba0e7-c779-403c-85c7-29ae4ed4268a"
      },
      "source": [
        "GEN AI experiment"
      ]
    },
    {
      "cell_type": "code",
      "execution_count": 156,
      "id": "56ed6536-bc8e-4d8d-b0b4-cb93941377a3",
      "metadata": {
        "colab": {
          "base_uri": "https://localhost:8080/"
        },
        "id": "56ed6536-bc8e-4d8d-b0b4-cb93941377a3",
        "outputId": "f59e6695-8560-4bec-bcbd-9a3c23873ce9"
      },
      "outputs": [
        {
          "output_type": "execute_result",
          "data": {
            "text/plain": [
              "<google.generativeai.generative_models.ChatSession at 0x7a4fb78d1690>"
            ]
          },
          "metadata": {},
          "execution_count": 156
        }
      ],
      "source": [
        "chat = model.start_chat(history=[])\n",
        "chat"
      ]
    },
    {
      "cell_type": "code",
      "execution_count": 157,
      "id": "09a9b50c-827d-4a24-a5d2-9a89cdd4202b",
      "metadata": {
        "id": "09a9b50c-827d-4a24-a5d2-9a89cdd4202b"
      },
      "outputs": [],
      "source": [
        "text= \"\"\"Chapter 1\n",
        "LOG ENTRY: SOL 6\n",
        "I’m pretty much fucked. That’s my considered opinion. Fucked. Six days in to what should be a greatest\n",
        "two months of my life, and it’s turned in to a nightmare. I don’t even know who’ll read this. I guess\n",
        "someone will find it eventually. Maybe a hundred years from now. For the record… I didn’t die on Sol 6.\n",
        "Certainly,  the rest of the crew thought I did, and I can’t blame them. Maybe there’ll be a day of national\n",
        "mourning for me, and my Wikipedia page will say “Mark Watney is the only human being to have died\n",
        "on Mars.” And it’ll be right, probably. Cause I’ll surely die  here. Just not on Sol 6 when everyone thinks I\n",
        "did. Let’s see… where do I begin? The Ares program. Mankind reaching out to Mars to send people to\n",
        "another planet for the very first time and expand the horizons of humanity blah, blah, blah. The Ares 1\n",
        "crew did their thing and came back heroes. They got the parades and fame and love of the world. Ares 2\n",
        "did the same thing, in a different location on Mars. They got a firm handshake and a hot cup of coffee\n",
        "when they got home. Ares 3. Well. That was my mission. Well, not mine per se. Commander Lewis was\n",
        "in charge. I was just one of her crew. Actually, I was the very lowest ranked member of the crew. I would\n",
        "only be “in command” of the mission if I were the only remaining person. What do you know? I’m in\n",
        "command. I wonder if this log will be recovered before the rest of the crew die of old age? I presume\n",
        "they got back to Earth all right. Well, guys, if you’re reading this: It wasn’t your fault. You did what you\n",
        "had to do. In your position I would have done the same  thing. I don’t blame you, and I’m glad you\n",
        "survived. I guess I should explain how Mars missions work, for any layman who may be reading this. We\n",
        "got to earth orbit the normal way, through an ordinary ship to Hermes. All the Ares missions use Hermes\n",
        "to get  to and from Mars. It’s really big and cost a lot so NASA only built one.\"\"\""
      ]
    },
    {
      "cell_type": "code",
      "execution_count": 158,
      "id": "5f13dbb2-665d-485c-a743-99a4705e6cd1",
      "metadata": {
        "id": "5f13dbb2-665d-485c-a743-99a4705e6cd1"
      },
      "outputs": [],
      "source": [
        "def to_markdown(text):\n",
        "    text = text.replace('•', '  *')\n",
        "    return Markdown(textwrap.indent(text, '> ', predicate=lambda _: True))"
      ]
    },
    {
      "cell_type": "code",
      "execution_count": 159,
      "id": "5b70f70a-72b7-48e8-aa9a-0c3ffd38896f",
      "metadata": {
        "colab": {
          "base_uri": "https://localhost:8080/",
          "height": 132
        },
        "id": "5b70f70a-72b7-48e8-aa9a-0c3ffd38896f",
        "outputId": "ffa8ce41-473e-4d81-f7a2-4bcca2fcbdb5"
      },
      "outputs": [
        {
          "output_type": "execute_result",
          "data": {
            "text/plain": [
              "<IPython.core.display.Markdown object>"
            ],
            "text/markdown": "> Mark Watney, a member of the Ares 3 mission to Mars, finds himself stranded on the planet after a fierce storm forces his crew to evacuate. Believing him to be dead, the crew leaves him behind. Alone and with limited supplies, Mark must use his ingenuity and resourcefulness to survive on the hostile Martian landscape. He begins by recording his experiences in a log, detailing his struggles and triumphs as he faces the challenges of isolation, dwindling resources, and the harsh Martian environment. Mark's determination and resilience shine through as he embarks on a perilous journey to find a way back to Earth."
          },
          "metadata": {},
          "execution_count": 159
        }
      ],
      "source": [
        "response = chat.send_message(text)\n",
        "to_markdown(response.text)"
      ]
    },
    {
      "cell_type": "code",
      "execution_count": 160,
      "id": "14e1ed7e-b327-4ac9-a68d-084c500b44ca",
      "metadata": {
        "colab": {
          "base_uri": "https://localhost:8080/",
          "height": 172
        },
        "id": "14e1ed7e-b327-4ac9-a68d-084c500b44ca",
        "outputId": "e7907927-cb77-45f8-b20e-38c2eff8ddd3"
      },
      "outputs": [
        {
          "output_type": "execute_result",
          "data": {
            "text/plain": [
              "<IPython.core.display.Markdown object>"
            ],
            "text/markdown": "> Mark Watney, an astronaut on the Ares 3 mission to Mars, is stranded on the planet after a storm forces his crew to evacuate. Presumed dead, Mark is left alone with limited supplies and must use his ingenuity and resourcefulness to survive. He records his experiences in a log, detailing his struggles and triumphs as he faces isolation, dwindling resources, and the harsh Martian environment. Mark's determination and resilience shine through as he embarks on a perilous journey to find a way back to Earth.\n> \n> In summary, Mark Watney, stranded on Mars, fights for survival against all odds, using his intelligence and resourcefulness to overcome the challenges of isolation, dwindling supplies, and the harsh Martian environment. His determination and resilience drive him on a perilous journey to find a way back home."
          },
          "metadata": {},
          "execution_count": 160
        }
      ],
      "source": [
        "response = chat.send_message(\"for the previous text provided can you summerize it ?\")\n",
        "to_markdown(response.text)"
      ]
    },
    {
      "cell_type": "code",
      "execution_count": 161,
      "id": "86ab8658-e7bf-4930-8234-79f717a99833",
      "metadata": {
        "colab": {
          "base_uri": "https://localhost:8080/"
        },
        "id": "86ab8658-e7bf-4930-8234-79f717a99833",
        "outputId": "2481bff6-9fda-43da-dbd7-9e331a6475ac"
      },
      "outputs": [
        {
          "output_type": "execute_result",
          "data": {
            "text/plain": [
              "[parts {\n",
              "   text: \"Chapter 1\\nLOG ENTRY: SOL 6\\nI\\342\\200\\231m pretty much fucked. That\\342\\200\\231s my considered opinion. Fucked. Six days in to what should be a greatest\\ntwo months of my life, and it\\342\\200\\231s turned in to a nightmare. I don\\342\\200\\231t even know who\\342\\200\\231ll read this. I guess\\nsomeone will find it eventually. Maybe a hundred years from now. For the record\\342\\200\\246 I didn\\342\\200\\231t die on Sol 6.\\nCertainly,  the rest of the crew thought I did, and I can\\342\\200\\231t blame them. Maybe there\\342\\200\\231ll be a day of national\\nmourning for me, and my Wikipedia page will say \\342\\200\\234Mark Watney is the only human being to have died\\non Mars.\\342\\200\\235 And it\\342\\200\\231ll be right, probably. Cause I\\342\\200\\231ll surely die  here. Just not on Sol 6 when everyone thinks I\\ndid. Let\\342\\200\\231s see\\342\\200\\246 where do I begin? The Ares program. Mankind reaching out to Mars to send people to\\nanother planet for the very first time and expand the horizons of humanity blah, blah, blah. The Ares 1\\ncrew did their thing and came back heroes. They got the parades and fame and love of the world. Ares 2\\ndid the same thing, in a different location on Mars. They got a firm handshake and a hot cup of coffee\\nwhen they got home. Ares 3. Well. That was my mission. Well, not mine per se. Commander Lewis was\\nin charge. I was just one of her crew. Actually, I was the very lowest ranked member of the crew. I would\\nonly be \\342\\200\\234in command\\342\\200\\235 of the mission if I were the only remaining person. What do you know? I\\342\\200\\231m in\\ncommand. I wonder if this log will be recovered before the rest of the crew die of old age? I presume\\nthey got back to Earth all right. Well, guys, if you\\342\\200\\231re reading this: It wasn\\342\\200\\231t your fault. You did what you\\nhad to do. In your position I would have done the same  thing. I don\\342\\200\\231t blame you, and I\\342\\200\\231m glad you\\nsurvived. I guess I should explain how Mars missions work, for any layman who may be reading this. We\\ngot to earth orbit the normal way, through an ordinary ship to Hermes. All the Ares missions use Hermes\\nto get  to and from Mars. It\\342\\200\\231s really big and cost a lot so NASA only built one.\"\n",
              " }\n",
              " role: \"user\",\n",
              " parts {\n",
              "   text: \"Mark Watney, a member of the Ares 3 mission to Mars, finds himself stranded on the planet after a fierce storm forces his crew to evacuate. Believing him to be dead, the crew leaves him behind. Alone and with limited supplies, Mark must use his ingenuity and resourcefulness to survive on the hostile Martian landscape. He begins by recording his experiences in a log, detailing his struggles and triumphs as he faces the challenges of isolation, dwindling resources, and the harsh Martian environment. Mark\\'s determination and resilience shine through as he embarks on a perilous journey to find a way back to Earth.\"\n",
              " }\n",
              " role: \"model\",\n",
              " parts {\n",
              "   text: \"for the previous text provided can you summerize it ?\"\n",
              " }\n",
              " role: \"user\",\n",
              " parts {\n",
              "   text: \"Mark Watney, an astronaut on the Ares 3 mission to Mars, is stranded on the planet after a storm forces his crew to evacuate. Presumed dead, Mark is left alone with limited supplies and must use his ingenuity and resourcefulness to survive. He records his experiences in a log, detailing his struggles and triumphs as he faces isolation, dwindling resources, and the harsh Martian environment. Mark\\'s determination and resilience shine through as he embarks on a perilous journey to find a way back to Earth.\\n\\nIn summary, Mark Watney, stranded on Mars, fights for survival against all odds, using his intelligence and resourcefulness to overcome the challenges of isolation, dwindling supplies, and the harsh Martian environment. His determination and resilience drive him on a perilous journey to find a way back home.\"\n",
              " }\n",
              " role: \"model\"]"
            ]
          },
          "metadata": {},
          "execution_count": 161
        }
      ],
      "source": [
        "chat.history"
      ]
    },
    {
      "cell_type": "code",
      "execution_count": 162,
      "id": "21bd2577-4834-46c7-b766-db877f4b8f97",
      "metadata": {
        "colab": {
          "base_uri": "https://localhost:8080/",
          "height": 335
        },
        "id": "21bd2577-4834-46c7-b766-db877f4b8f97",
        "outputId": "19740187-53a4-419d-d41a-31905a0c23dd"
      },
      "outputs": [
        {
          "output_type": "execute_result",
          "data": {
            "text/plain": [
              "<IPython.core.display.Markdown object>"
            ],
            "text/markdown": "> Mark Watney's ability to survive on Mars depends on several factors, including his resourcefulness, the supplies he has available, and the conditions on Mars. In the novel and film The Martian, Mark is able to survive for over a year on Mars, but this is largely due to his ingenuity and the fact that he is able to find and use resources on the planet.\n> \n> In reality, it is difficult to say exactly how long a human could survive on Mars, as it would depend on a number of factors, including:\n> \n> * **Available resources:** Mars has a thin atmosphere, no liquid water on its surface, and extreme temperatures. This means that any human attempting to survive on Mars would need to have access to a reliable source of food, water, and shelter.\n> * **Technology:** Humans would need to have access to advanced technology in order to survive on Mars, including spacesuits, life support systems, and habitats.\n> * **Training:** Astronauts would need to undergo extensive training in order to learn how to live and work in the harsh Martian environment.\n> \n> Given these challenges, it is likely that a human could only survive on Mars for a limited amount of time, perhaps a few months or years. However, with careful planning and the use of advanced technology, it is possible that humans could eventually establish a permanent presence on Mars.\n> \n> In the case of Mark Watney, he is able to survive for over a year on Mars by using his ingenuity and the resources he finds on the planet. He is able to grow potatoes in Martian soil, use his spacesuit to collect water from the atmosphere, and create a habitable environment inside the Hab. He is also able to repair his damaged equipment and communicate with Earth.\n> \n> While Mark's survival on Mars is fictional, it does provide a glimpse into the challenges and possibilities of human survival on the Red Planet."
          },
          "metadata": {},
          "execution_count": 162
        }
      ],
      "source": [
        "response = chat.send_message(\"Provide me the stats on how long he can survive?\")\n",
        "to_markdown(response.text)"
      ]
    },
    {
      "cell_type": "code",
      "execution_count": 163,
      "id": "5480feb0-aa8c-4587-9b24-6e828918aebe",
      "metadata": {
        "colab": {
          "base_uri": "https://localhost:8080/",
          "height": 202
        },
        "id": "5480feb0-aa8c-4587-9b24-6e828918aebe",
        "outputId": "a41e1be4-d34f-4055-ef69-062c3d873c1d"
      },
      "outputs": [
        {
          "output_type": "execute_result",
          "data": {
            "text/plain": [
              "<IPython.core.display.Markdown object>"
            ],
            "text/markdown": "> Argentina won the FIFA 2022 World Cup, defeating France in a penalty shootout in the final match. The match ended 3-3 after extra time, with Argentina winning 4-2 on penalties.\n> \n> This was Argentina's third World Cup title, after their victories in 1978 and 1986. Lionel Messi, Argentina's captain, was named the tournament's best player.\n> \n> Kylian Mbappé of France won the Golden Boot award for scoring the most goals in the tournament, with 8 goals. Emiliano Martínez of Argentina won the Golden Glove award for being the best goalkeeper in the tournament.\n> \n> The FIFA 2022 World Cup was held in Qatar from November 20 to December 18, 2022. It was the first World Cup to be held in the Middle East and the second World Cup to be held entirely in Asia, after the 2002 tournament in South Korea and Japan."
          },
          "metadata": {},
          "execution_count": 163
        }
      ],
      "source": [
        "response = chat.send_message(\"Who won the FIFA 2022 world cup?\")\n",
        "to_markdown(response.text)"
      ]
    },
    {
      "cell_type": "code",
      "execution_count": 163,
      "id": "e9cb4e27-fee5-40f9-ad39-a51c973b519c",
      "metadata": {
        "id": "e9cb4e27-fee5-40f9-ad39-a51c973b519c"
      },
      "outputs": [],
      "source": []
    },
    {
      "cell_type": "code",
      "execution_count": 164,
      "id": "6d0b7340-5d1d-459a-927a-87c74bab95ba",
      "metadata": {
        "colab": {
          "base_uri": "https://localhost:8080/",
          "height": 219
        },
        "id": "6d0b7340-5d1d-459a-927a-87c74bab95ba",
        "outputId": "5be8d842-ce8e-4c6d-8636-a5fe87cfec79"
      },
      "outputs": [
        {
          "output_type": "execute_result",
          "data": {
            "text/plain": [
              "<IPython.core.display.Markdown object>"
            ],
            "text/markdown": "> The astronaut in the context you provided is **Mark Watney**.\n> \n> Mark Watney is a fictional character and the protagonist of the novel and film The Martian. He is an astronaut on the Ares 3 mission to Mars, who is stranded on the planet after a fierce storm forces his crew to evacuate. Believing him to be dead, the crew leaves him behind. Alone and with limited supplies, Mark must use his ingenuity and resourcefulness to survive on the hostile Martian landscape.\n> \n> Mark Watney is a botanist and mechanical engineer, and his skills prove to be invaluable in his fight for survival. He is able to grow potatoes in Martian soil, use his spacesuit to collect water from the atmosphere, and create a habitable environment inside the Hab. He is also able to repair his damaged equipment and communicate with Earth.\n> \n> Mark Watney's story is one of resilience, determination, and the power of human ingenuity. He is a reminder that even in the most challenging of circumstances, it is possible to survive and thrive."
          },
          "metadata": {},
          "execution_count": 164
        }
      ],
      "source": [
        "response = chat.send_message(\"Who is the astronaut in the above context?\")\n",
        "to_markdown(response.text)"
      ]
    },
    {
      "cell_type": "code",
      "execution_count": 165,
      "id": "c7e1fddb",
      "metadata": {
        "id": "c7e1fddb",
        "colab": {
          "base_uri": "https://localhost:8080/"
        },
        "outputId": "5c3aafb4-653b-4610-ecb7-b1f28eb663e2"
      },
      "outputs": [
        {
          "output_type": "stream",
          "name": "stdout",
          "text": [
            "Requirement already satisfied: langchain-google-genai in /usr/local/lib/python3.10/dist-packages (0.0.5)\n",
            "Requirement already satisfied: streamlit in /usr/local/lib/python3.10/dist-packages (1.29.0)\n",
            "Requirement already satisfied: google-generativeai<0.4.0,>=0.3.1 in /usr/local/lib/python3.10/dist-packages (from langchain-google-genai) (0.3.1)\n",
            "Requirement already satisfied: langchain-core<0.2,>=0.1 in /usr/local/lib/python3.10/dist-packages (from langchain-google-genai) (0.1.4)\n",
            "Requirement already satisfied: altair<6,>=4.0 in /usr/local/lib/python3.10/dist-packages (from streamlit) (4.2.2)\n",
            "Requirement already satisfied: blinker<2,>=1.0.0 in /usr/lib/python3/dist-packages (from streamlit) (1.4)\n",
            "Requirement already satisfied: cachetools<6,>=4.0 in /usr/local/lib/python3.10/dist-packages (from streamlit) (5.3.2)\n",
            "Requirement already satisfied: click<9,>=7.0 in /usr/local/lib/python3.10/dist-packages (from streamlit) (8.1.7)\n",
            "Requirement already satisfied: importlib-metadata<7,>=1.4 in /usr/local/lib/python3.10/dist-packages (from streamlit) (6.11.0)\n",
            "Requirement already satisfied: numpy<2,>=1.19.3 in /usr/local/lib/python3.10/dist-packages (from streamlit) (1.23.5)\n",
            "Requirement already satisfied: packaging<24,>=16.8 in /usr/local/lib/python3.10/dist-packages (from streamlit) (23.2)\n",
            "Requirement already satisfied: pandas<3,>=1.3.0 in /usr/local/lib/python3.10/dist-packages (from streamlit) (1.5.3)\n",
            "Requirement already satisfied: pillow<11,>=7.1.0 in /usr/local/lib/python3.10/dist-packages (from streamlit) (9.4.0)\n",
            "Requirement already satisfied: protobuf<5,>=3.20 in /usr/local/lib/python3.10/dist-packages (from streamlit) (3.20.3)\n",
            "Requirement already satisfied: pyarrow>=6.0 in /usr/local/lib/python3.10/dist-packages (from streamlit) (10.0.1)\n",
            "Requirement already satisfied: python-dateutil<3,>=2.7.3 in /usr/local/lib/python3.10/dist-packages (from streamlit) (2.8.2)\n",
            "Requirement already satisfied: requests<3,>=2.27 in /usr/local/lib/python3.10/dist-packages (from streamlit) (2.31.0)\n",
            "Requirement already satisfied: rich<14,>=10.14.0 in /usr/local/lib/python3.10/dist-packages (from streamlit) (13.7.0)\n",
            "Requirement already satisfied: tenacity<9,>=8.1.0 in /usr/local/lib/python3.10/dist-packages (from streamlit) (8.2.3)\n",
            "Requirement already satisfied: toml<2,>=0.10.1 in /usr/local/lib/python3.10/dist-packages (from streamlit) (0.10.2)\n",
            "Requirement already satisfied: typing-extensions<5,>=4.3.0 in /usr/local/lib/python3.10/dist-packages (from streamlit) (4.9.0)\n",
            "Requirement already satisfied: tzlocal<6,>=1.1 in /usr/local/lib/python3.10/dist-packages (from streamlit) (5.2)\n",
            "Requirement already satisfied: validators<1,>=0.2 in /usr/local/lib/python3.10/dist-packages (from streamlit) (0.22.0)\n",
            "Requirement already satisfied: gitpython!=3.1.19,<4,>=3.0.7 in /usr/local/lib/python3.10/dist-packages (from streamlit) (3.1.40)\n",
            "Requirement already satisfied: pydeck<1,>=0.8.0b4 in /usr/local/lib/python3.10/dist-packages (from streamlit) (0.8.1b0)\n",
            "Requirement already satisfied: tornado<7,>=6.0.3 in /usr/local/lib/python3.10/dist-packages (from streamlit) (6.3.2)\n",
            "Requirement already satisfied: watchdog>=2.1.5 in /usr/local/lib/python3.10/dist-packages (from streamlit) (3.0.0)\n",
            "Requirement already satisfied: entrypoints in /usr/local/lib/python3.10/dist-packages (from altair<6,>=4.0->streamlit) (0.4)\n",
            "Requirement already satisfied: jinja2 in /usr/local/lib/python3.10/dist-packages (from altair<6,>=4.0->streamlit) (3.1.2)\n",
            "Requirement already satisfied: jsonschema>=3.0 in /usr/local/lib/python3.10/dist-packages (from altair<6,>=4.0->streamlit) (4.19.2)\n",
            "Requirement already satisfied: toolz in /usr/local/lib/python3.10/dist-packages (from altair<6,>=4.0->streamlit) (0.12.0)\n",
            "Requirement already satisfied: gitdb<5,>=4.0.1 in /usr/local/lib/python3.10/dist-packages (from gitpython!=3.1.19,<4,>=3.0.7->streamlit) (4.0.11)\n",
            "Requirement already satisfied: google-ai-generativelanguage==0.4.0 in /usr/local/lib/python3.10/dist-packages (from google-generativeai<0.4.0,>=0.3.1->langchain-google-genai) (0.4.0)\n",
            "Requirement already satisfied: google-auth in /usr/local/lib/python3.10/dist-packages (from google-generativeai<0.4.0,>=0.3.1->langchain-google-genai) (2.17.3)\n",
            "Requirement already satisfied: google-api-core in /usr/local/lib/python3.10/dist-packages (from google-generativeai<0.4.0,>=0.3.1->langchain-google-genai) (2.11.1)\n",
            "Requirement already satisfied: tqdm in /usr/local/lib/python3.10/dist-packages (from google-generativeai<0.4.0,>=0.3.1->langchain-google-genai) (4.66.1)\n",
            "Requirement already satisfied: proto-plus<2.0.0dev,>=1.22.3 in /usr/local/lib/python3.10/dist-packages (from google-ai-generativelanguage==0.4.0->google-generativeai<0.4.0,>=0.3.1->langchain-google-genai) (1.23.0)\n",
            "Requirement already satisfied: zipp>=0.5 in /usr/local/lib/python3.10/dist-packages (from importlib-metadata<7,>=1.4->streamlit) (3.17.0)\n",
            "Requirement already satisfied: PyYAML>=5.3 in /usr/local/lib/python3.10/dist-packages (from langchain-core<0.2,>=0.1->langchain-google-genai) (6.0.1)\n",
            "Requirement already satisfied: anyio<5,>=3 in /usr/local/lib/python3.10/dist-packages (from langchain-core<0.2,>=0.1->langchain-google-genai) (3.7.1)\n",
            "Requirement already satisfied: jsonpatch<2.0,>=1.33 in /usr/local/lib/python3.10/dist-packages (from langchain-core<0.2,>=0.1->langchain-google-genai) (1.33)\n",
            "Requirement already satisfied: langsmith<0.1.0,>=0.0.63 in /usr/local/lib/python3.10/dist-packages (from langchain-core<0.2,>=0.1->langchain-google-genai) (0.0.75)\n",
            "Requirement already satisfied: pydantic<3,>=1 in /usr/local/lib/python3.10/dist-packages (from langchain-core<0.2,>=0.1->langchain-google-genai) (1.10.13)\n",
            "Requirement already satisfied: pytz>=2020.1 in /usr/local/lib/python3.10/dist-packages (from pandas<3,>=1.3.0->streamlit) (2023.3.post1)\n",
            "Requirement already satisfied: six>=1.5 in /usr/local/lib/python3.10/dist-packages (from python-dateutil<3,>=2.7.3->streamlit) (1.16.0)\n",
            "Requirement already satisfied: charset-normalizer<4,>=2 in /usr/local/lib/python3.10/dist-packages (from requests<3,>=2.27->streamlit) (3.3.2)\n",
            "Requirement already satisfied: idna<4,>=2.5 in /usr/local/lib/python3.10/dist-packages (from requests<3,>=2.27->streamlit) (3.6)\n",
            "Requirement already satisfied: urllib3<3,>=1.21.1 in /usr/local/lib/python3.10/dist-packages (from requests<3,>=2.27->streamlit) (1.26.18)\n",
            "Requirement already satisfied: certifi>=2017.4.17 in /usr/local/lib/python3.10/dist-packages (from requests<3,>=2.27->streamlit) (2023.11.17)\n",
            "Requirement already satisfied: markdown-it-py>=2.2.0 in /usr/local/lib/python3.10/dist-packages (from rich<14,>=10.14.0->streamlit) (3.0.0)\n",
            "Requirement already satisfied: pygments<3.0.0,>=2.13.0 in /usr/local/lib/python3.10/dist-packages (from rich<14,>=10.14.0->streamlit) (2.16.1)\n",
            "Requirement already satisfied: sniffio>=1.1 in /usr/local/lib/python3.10/dist-packages (from anyio<5,>=3->langchain-core<0.2,>=0.1->langchain-google-genai) (1.3.0)\n",
            "Requirement already satisfied: exceptiongroup in /usr/local/lib/python3.10/dist-packages (from anyio<5,>=3->langchain-core<0.2,>=0.1->langchain-google-genai) (1.2.0)\n",
            "Requirement already satisfied: smmap<6,>=3.0.1 in /usr/local/lib/python3.10/dist-packages (from gitdb<5,>=4.0.1->gitpython!=3.1.19,<4,>=3.0.7->streamlit) (5.0.1)\n",
            "Requirement already satisfied: googleapis-common-protos<2.0.dev0,>=1.56.2 in /usr/local/lib/python3.10/dist-packages (from google-api-core->google-generativeai<0.4.0,>=0.3.1->langchain-google-genai) (1.62.0)\n",
            "Requirement already satisfied: pyasn1-modules>=0.2.1 in /usr/local/lib/python3.10/dist-packages (from google-auth->google-generativeai<0.4.0,>=0.3.1->langchain-google-genai) (0.3.0)\n",
            "Requirement already satisfied: rsa<5,>=3.1.4 in /usr/local/lib/python3.10/dist-packages (from google-auth->google-generativeai<0.4.0,>=0.3.1->langchain-google-genai) (4.9)\n",
            "Requirement already satisfied: MarkupSafe>=2.0 in /usr/local/lib/python3.10/dist-packages (from jinja2->altair<6,>=4.0->streamlit) (2.1.3)\n",
            "Requirement already satisfied: jsonpointer>=1.9 in /usr/local/lib/python3.10/dist-packages (from jsonpatch<2.0,>=1.33->langchain-core<0.2,>=0.1->langchain-google-genai) (2.4)\n",
            "Requirement already satisfied: attrs>=22.2.0 in /usr/local/lib/python3.10/dist-packages (from jsonschema>=3.0->altair<6,>=4.0->streamlit) (23.1.0)\n",
            "Requirement already satisfied: jsonschema-specifications>=2023.03.6 in /usr/local/lib/python3.10/dist-packages (from jsonschema>=3.0->altair<6,>=4.0->streamlit) (2023.11.2)\n",
            "Requirement already satisfied: referencing>=0.28.4 in /usr/local/lib/python3.10/dist-packages (from jsonschema>=3.0->altair<6,>=4.0->streamlit) (0.32.0)\n",
            "Requirement already satisfied: rpds-py>=0.7.1 in /usr/local/lib/python3.10/dist-packages (from jsonschema>=3.0->altair<6,>=4.0->streamlit) (0.15.2)\n",
            "Requirement already satisfied: mdurl~=0.1 in /usr/local/lib/python3.10/dist-packages (from markdown-it-py>=2.2.0->rich<14,>=10.14.0->streamlit) (0.1.2)\n",
            "Requirement already satisfied: grpcio<2.0dev,>=1.33.2 in /usr/local/lib/python3.10/dist-packages (from google-api-core[grpc]!=2.0.*,!=2.1.*,!=2.10.*,!=2.2.*,!=2.3.*,!=2.4.*,!=2.5.*,!=2.6.*,!=2.7.*,!=2.8.*,!=2.9.*,<3.0.0dev,>=1.34.0->google-ai-generativelanguage==0.4.0->google-generativeai<0.4.0,>=0.3.1->langchain-google-genai) (1.60.0)\n",
            "Requirement already satisfied: grpcio-status<2.0.dev0,>=1.33.2 in /usr/local/lib/python3.10/dist-packages (from google-api-core[grpc]!=2.0.*,!=2.1.*,!=2.10.*,!=2.2.*,!=2.3.*,!=2.4.*,!=2.5.*,!=2.6.*,!=2.7.*,!=2.8.*,!=2.9.*,<3.0.0dev,>=1.34.0->google-ai-generativelanguage==0.4.0->google-generativeai<0.4.0,>=0.3.1->langchain-google-genai) (1.48.2)\n",
            "Requirement already satisfied: pyasn1<0.6.0,>=0.4.6 in /usr/local/lib/python3.10/dist-packages (from pyasn1-modules>=0.2.1->google-auth->google-generativeai<0.4.0,>=0.3.1->langchain-google-genai) (0.5.1)\n",
            "\u001b[33mWARNING: Running pip as the 'root' user can result in broken permissions and conflicting behaviour with the system package manager. It is recommended to use a virtual environment instead: https://pip.pypa.io/warnings/venv\u001b[0m\u001b[33m\n",
            "\u001b[0m"
          ]
        }
      ],
      "source": [
        "pip install langchain-google-genai streamlit"
      ]
    },
    {
      "cell_type": "code",
      "execution_count": 166,
      "id": "05367711-2e98-49d9-a26f-de0afd975692",
      "metadata": {
        "id": "05367711-2e98-49d9-a26f-de0afd975692"
      },
      "outputs": [],
      "source": [
        "import urllib\n",
        "import warnings\n",
        "from pathlib import Path as p\n",
        "from pprint import pprint\n",
        "\n",
        "import pandas as pd\n",
        "from langchain.prompts import PromptTemplate\n",
        "from langchain.chains.question_answering import load_qa_chain\n",
        "from langchain.document_loaders import PyPDFLoader\n",
        "from langchain.text_splitter import RecursiveCharacterTextSplitter\n",
        "from langchain.vectorstores import Chroma\n",
        "from langchain.chains import RetrievalQA\n",
        "\n",
        "\n",
        "\n",
        "warnings.filterwarnings(\"ignore\")\n",
        "# restart python kernal if issues with langchain import."
      ]
    },
    {
      "cell_type": "code",
      "source": [
        "pip install pypdf"
      ],
      "metadata": {
        "colab": {
          "base_uri": "https://localhost:8080/"
        },
        "id": "RFlF4uIorvlj",
        "outputId": "f4da42f8-6c1c-4fd0-a584-7f5a6a74ab90"
      },
      "id": "RFlF4uIorvlj",
      "execution_count": 167,
      "outputs": [
        {
          "output_type": "stream",
          "name": "stdout",
          "text": [
            "Requirement already satisfied: pypdf in /usr/local/lib/python3.10/dist-packages (3.17.4)\n",
            "\u001b[33mWARNING: Running pip as the 'root' user can result in broken permissions and conflicting behaviour with the system package manager. It is recommended to use a virtual environment instead: https://pip.pypa.io/warnings/venv\u001b[0m\u001b[33m\n",
            "\u001b[0m"
          ]
        }
      ]
    },
    {
      "cell_type": "code",
      "execution_count": 168,
      "id": "5069e450",
      "metadata": {
        "colab": {
          "base_uri": "https://localhost:8080/"
        },
        "id": "5069e450",
        "outputId": "d8aab230-f55d-40db-9732-2f7a79d6c9c9"
      },
      "outputs": [
        {
          "output_type": "execute_result",
          "data": {
            "text/plain": [
              " genai.GenerativeModel(\n",
              "   model_name='models/gemini-pro',\n",
              "   generation_config={'temperature': 0, 'top_p': 1, 'top_k': 1, 'max_output_tokens': 4096}.\n",
              "   safety_settings={<HarmCategory.HARM_CATEGORY_HARASSMENT: 7>: <HarmBlockThreshold.BLOCK_ONLY_HIGH: 3>, <HarmCategory.HARM_CATEGORY_HATE_SPEECH: 8>: <HarmBlockThreshold.BLOCK_ONLY_HIGH: 3>, <HarmCategory.HARM_CATEGORY_SEXUALLY_EXPLICIT: 9>: <HarmBlockThreshold.BLOCK_ONLY_HIGH: 3>, <HarmCategory.HARM_CATEGORY_DANGEROUS_CONTENT: 10>: <HarmBlockThreshold.BLOCK_ONLY_HIGH: 3>}\n",
              ")"
            ]
          },
          "metadata": {},
          "execution_count": 168
        }
      ],
      "source": [
        "model"
      ]
    },
    {
      "cell_type": "code",
      "source": [
        "\n",
        "from langchain_google_genai import ChatGoogleGenerativeAI"
      ],
      "metadata": {
        "id": "0dJoKrqLrYij"
      },
      "id": "0dJoKrqLrYij",
      "execution_count": 169,
      "outputs": []
    },
    {
      "cell_type": "code",
      "source": [
        "from vertexai.preview.generative_models import (\n",
        "    HarmCategory,\n",
        "    HarmBlockThreshold )\n",
        "from google.cloud.aiplatform_v1beta1.types.content import SafetySetting"
      ],
      "metadata": {
        "id": "IiUrGHSKvoZX"
      },
      "id": "IiUrGHSKvoZX",
      "execution_count": 170,
      "outputs": []
    },
    {
      "cell_type": "code",
      "source": [
        "safety_settings = [\n",
        "     SafetySetting(\n",
        "         category=HarmCategory.HARM_CATEGORY_SEXUALLY_EXPLICIT,\n",
        "         threshold=HarmBlockThreshold.BLOCK_NONE,\n",
        "     ),\n",
        "     SafetySetting(\n",
        "         category=HarmCategory.HARM_CATEGORY_DANGEROUS_CONTENT,\n",
        "         threshold=HarmBlockThreshold.BLOCK_NONE,\n",
        "     ),\n",
        "     SafetySetting(\n",
        "         category=HarmCategory.HARM_CATEGORY_HATE_SPEECH,\n",
        "         threshold=HarmBlockThreshold.BLOCK_NONE,\n",
        "     ),\n",
        "     SafetySetting(\n",
        "         category=HarmCategory.HARM_CATEGORY_HARASSMENT,\n",
        "         threshold=HarmBlockThreshold.BLOCK_NONE,\n",
        "     ),\n",
        " ]"
      ],
      "metadata": {
        "id": "-jlTxyDgtRdb"
      },
      "id": "-jlTxyDgtRdb",
      "execution_count": 171,
      "outputs": []
    },
    {
      "cell_type": "code",
      "execution_count": 172,
      "id": "6a921e02-09cc-404a-944e-b92b9700004e",
      "metadata": {
        "id": "6a921e02-09cc-404a-944e-b92b9700004e"
      },
      "outputs": [],
      "source": [
        "model_safety_none = ChatGoogleGenerativeAI(model=\"gemini-pro\",google_api_key=google_api_key,\n",
        "                             temperature=0.2,convert_system_message_to_human=True, safety_settings=safety_settings)"
      ]
    },
    {
      "cell_type": "code",
      "execution_count": 173,
      "id": "9af32fe0",
      "metadata": {
        "colab": {
          "base_uri": "https://localhost:8080/"
        },
        "id": "9af32fe0",
        "outputId": "921c16d7-b3d6-4acb-9ec2-ed6278e98d7d"
      },
      "outputs": [
        {
          "output_type": "stream",
          "name": "stdout",
          "text": [
            "no w ay to separate out the CO2, the suit deliberately vented air to the Martian atmosphere, then back -\n",
            "filled with nitrogen. Between the breach and the bloodletting, it quickly ran out of nitrogen. All it had \n",
            "left was my oxygen tank. So it did the only thing it  could to keep me alive. It started backfilling with pure \n",
            "oxygen. I now risked dying from oxygen toxicity, as the excessively high amount of oxygen threatened to \n",
            "burn up my nervous system, lungs, and eyes. An ironic death for someone with a leaky space sui t: too \n",
            "much oxygen. Every step of the way would have had beeping alarms, alerts, and warnings. But it was the\n"
          ]
        }
      ],
      "source": [
        "pdf_loader = PyPDFLoader('/content/Chapter 1.pdf')\n",
        "pages = pdf_loader.load_and_split()\n",
        "print(pages[3].page_content)\n"
      ]
    },
    {
      "cell_type": "code",
      "execution_count": 174,
      "id": "44c3aef7",
      "metadata": {
        "colab": {
          "base_uri": "https://localhost:8080/"
        },
        "id": "44c3aef7",
        "outputId": "e8d9c0f5-3926-462e-bb88-900622c60996"
      },
      "outputs": [
        {
          "output_type": "execute_result",
          "data": {
            "text/plain": [
              "5"
            ]
          },
          "metadata": {},
          "execution_count": 174
        }
      ],
      "source": [
        "\n",
        "len(pages)"
      ]
    },
    {
      "cell_type": "code",
      "execution_count": 175,
      "id": "0f86455a-6a4e-47ee-a15b-5857e5d380c8",
      "metadata": {
        "colab": {
          "base_uri": "https://localhost:8080/"
        },
        "id": "0f86455a-6a4e-47ee-a15b-5857e5d380c8",
        "outputId": "9f9bfb6d-61b1-4b82-cea5-4d39d706972c"
      },
      "outputs": [
        {
          "output_type": "stream",
          "name": "stdout",
          "text": [
            "Requirement already satisfied: chromadb in /usr/local/lib/python3.10/dist-packages (0.4.21)\n",
            "Requirement already satisfied: requests>=2.28 in /usr/local/lib/python3.10/dist-packages (from chromadb) (2.31.0)\n",
            "Requirement already satisfied: pydantic>=1.9 in /usr/local/lib/python3.10/dist-packages (from chromadb) (1.10.13)\n",
            "Requirement already satisfied: chroma-hnswlib==0.7.3 in /usr/local/lib/python3.10/dist-packages (from chromadb) (0.7.3)\n",
            "Requirement already satisfied: fastapi>=0.95.2 in /usr/local/lib/python3.10/dist-packages (from chromadb) (0.108.0)\n",
            "Requirement already satisfied: uvicorn>=0.18.3 in /usr/local/lib/python3.10/dist-packages (from uvicorn[standard]>=0.18.3->chromadb) (0.25.0)\n",
            "Requirement already satisfied: numpy>=1.22.5 in /usr/local/lib/python3.10/dist-packages (from chromadb) (1.23.5)\n",
            "Requirement already satisfied: posthog>=2.4.0 in /usr/local/lib/python3.10/dist-packages (from chromadb) (3.1.0)\n",
            "Requirement already satisfied: typing-extensions>=4.5.0 in /usr/local/lib/python3.10/dist-packages (from chromadb) (4.9.0)\n",
            "Requirement already satisfied: pulsar-client>=3.1.0 in /usr/local/lib/python3.10/dist-packages (from chromadb) (3.3.0)\n",
            "Requirement already satisfied: onnxruntime>=1.14.1 in /usr/local/lib/python3.10/dist-packages (from chromadb) (1.16.3)\n",
            "Requirement already satisfied: opentelemetry-api>=1.2.0 in /usr/local/lib/python3.10/dist-packages (from chromadb) (1.22.0)\n",
            "Requirement already satisfied: opentelemetry-exporter-otlp-proto-grpc>=1.2.0 in /usr/local/lib/python3.10/dist-packages (from chromadb) (1.22.0)\n",
            "Requirement already satisfied: opentelemetry-instrumentation-fastapi>=0.41b0 in /usr/local/lib/python3.10/dist-packages (from chromadb) (0.43b0)\n",
            "Requirement already satisfied: opentelemetry-sdk>=1.2.0 in /usr/local/lib/python3.10/dist-packages (from chromadb) (1.22.0)\n",
            "Requirement already satisfied: tokenizers>=0.13.2 in /usr/local/lib/python3.10/dist-packages (from chromadb) (0.15.0)\n",
            "Requirement already satisfied: pypika>=0.48.9 in /usr/local/lib/python3.10/dist-packages (from chromadb) (0.48.9)\n",
            "Requirement already satisfied: tqdm>=4.65.0 in /usr/local/lib/python3.10/dist-packages (from chromadb) (4.66.1)\n",
            "Requirement already satisfied: overrides>=7.3.1 in /usr/local/lib/python3.10/dist-packages (from chromadb) (7.4.0)\n",
            "Requirement already satisfied: importlib-resources in /usr/local/lib/python3.10/dist-packages (from chromadb) (6.1.1)\n",
            "Requirement already satisfied: grpcio>=1.58.0 in /usr/local/lib/python3.10/dist-packages (from chromadb) (1.60.0)\n",
            "Requirement already satisfied: bcrypt>=4.0.1 in /usr/local/lib/python3.10/dist-packages (from chromadb) (4.1.2)\n",
            "Requirement already satisfied: typer>=0.9.0 in /usr/local/lib/python3.10/dist-packages (from chromadb) (0.9.0)\n",
            "Requirement already satisfied: kubernetes>=28.1.0 in /usr/local/lib/python3.10/dist-packages (from chromadb) (28.1.0)\n",
            "Requirement already satisfied: tenacity>=8.2.3 in /usr/local/lib/python3.10/dist-packages (from chromadb) (8.2.3)\n",
            "Requirement already satisfied: PyYAML>=6.0.0 in /usr/local/lib/python3.10/dist-packages (from chromadb) (6.0.1)\n",
            "Requirement already satisfied: mmh3>=4.0.1 in /usr/local/lib/python3.10/dist-packages (from chromadb) (4.0.1)\n",
            "Requirement already satisfied: starlette<0.33.0,>=0.29.0 in /usr/local/lib/python3.10/dist-packages (from fastapi>=0.95.2->chromadb) (0.32.0.post1)\n",
            "Requirement already satisfied: certifi>=14.05.14 in /usr/local/lib/python3.10/dist-packages (from kubernetes>=28.1.0->chromadb) (2023.11.17)\n",
            "Requirement already satisfied: six>=1.9.0 in /usr/local/lib/python3.10/dist-packages (from kubernetes>=28.1.0->chromadb) (1.16.0)\n",
            "Requirement already satisfied: python-dateutil>=2.5.3 in /usr/local/lib/python3.10/dist-packages (from kubernetes>=28.1.0->chromadb) (2.8.2)\n",
            "Requirement already satisfied: google-auth>=1.0.1 in /usr/local/lib/python3.10/dist-packages (from kubernetes>=28.1.0->chromadb) (2.17.3)\n",
            "Requirement already satisfied: websocket-client!=0.40.0,!=0.41.*,!=0.42.*,>=0.32.0 in /usr/local/lib/python3.10/dist-packages (from kubernetes>=28.1.0->chromadb) (1.7.0)\n",
            "Requirement already satisfied: requests-oauthlib in /usr/local/lib/python3.10/dist-packages (from kubernetes>=28.1.0->chromadb) (1.3.1)\n",
            "Requirement already satisfied: oauthlib>=3.2.2 in /usr/local/lib/python3.10/dist-packages (from kubernetes>=28.1.0->chromadb) (3.2.2)\n",
            "Requirement already satisfied: urllib3<2.0,>=1.24.2 in /usr/local/lib/python3.10/dist-packages (from kubernetes>=28.1.0->chromadb) (1.26.18)\n",
            "Requirement already satisfied: coloredlogs in /usr/local/lib/python3.10/dist-packages (from onnxruntime>=1.14.1->chromadb) (15.0.1)\n",
            "Requirement already satisfied: flatbuffers in /usr/local/lib/python3.10/dist-packages (from onnxruntime>=1.14.1->chromadb) (23.5.26)\n",
            "Requirement already satisfied: packaging in /usr/local/lib/python3.10/dist-packages (from onnxruntime>=1.14.1->chromadb) (23.2)\n",
            "Requirement already satisfied: protobuf in /usr/local/lib/python3.10/dist-packages (from onnxruntime>=1.14.1->chromadb) (3.20.3)\n",
            "Requirement already satisfied: sympy in /usr/local/lib/python3.10/dist-packages (from onnxruntime>=1.14.1->chromadb) (1.12)\n",
            "Requirement already satisfied: deprecated>=1.2.6 in /usr/local/lib/python3.10/dist-packages (from opentelemetry-api>=1.2.0->chromadb) (1.2.14)\n",
            "Requirement already satisfied: importlib-metadata<7.0,>=6.0 in /usr/local/lib/python3.10/dist-packages (from opentelemetry-api>=1.2.0->chromadb) (6.11.0)\n",
            "Requirement already satisfied: backoff<3.0.0,>=1.10.0 in /usr/local/lib/python3.10/dist-packages (from opentelemetry-exporter-otlp-proto-grpc>=1.2.0->chromadb) (2.2.1)\n",
            "Requirement already satisfied: googleapis-common-protos~=1.52 in /usr/local/lib/python3.10/dist-packages (from opentelemetry-exporter-otlp-proto-grpc>=1.2.0->chromadb) (1.62.0)\n",
            "Requirement already satisfied: opentelemetry-exporter-otlp-proto-common==1.22.0 in /usr/local/lib/python3.10/dist-packages (from opentelemetry-exporter-otlp-proto-grpc>=1.2.0->chromadb) (1.22.0)\n",
            "Requirement already satisfied: opentelemetry-proto==1.22.0 in /usr/local/lib/python3.10/dist-packages (from opentelemetry-exporter-otlp-proto-grpc>=1.2.0->chromadb) (1.22.0)\n",
            "Requirement already satisfied: opentelemetry-instrumentation-asgi==0.43b0 in /usr/local/lib/python3.10/dist-packages (from opentelemetry-instrumentation-fastapi>=0.41b0->chromadb) (0.43b0)\n",
            "Requirement already satisfied: opentelemetry-instrumentation==0.43b0 in /usr/local/lib/python3.10/dist-packages (from opentelemetry-instrumentation-fastapi>=0.41b0->chromadb) (0.43b0)\n",
            "Requirement already satisfied: opentelemetry-semantic-conventions==0.43b0 in /usr/local/lib/python3.10/dist-packages (from opentelemetry-instrumentation-fastapi>=0.41b0->chromadb) (0.43b0)\n",
            "Requirement already satisfied: opentelemetry-util-http==0.43b0 in /usr/local/lib/python3.10/dist-packages (from opentelemetry-instrumentation-fastapi>=0.41b0->chromadb) (0.43b0)\n",
            "Requirement already satisfied: setuptools>=16.0 in /usr/local/lib/python3.10/dist-packages (from opentelemetry-instrumentation==0.43b0->opentelemetry-instrumentation-fastapi>=0.41b0->chromadb) (67.7.2)\n",
            "Requirement already satisfied: wrapt<2.0.0,>=1.0.0 in /usr/local/lib/python3.10/dist-packages (from opentelemetry-instrumentation==0.43b0->opentelemetry-instrumentation-fastapi>=0.41b0->chromadb) (1.14.1)\n",
            "Requirement already satisfied: asgiref~=3.0 in /usr/local/lib/python3.10/dist-packages (from opentelemetry-instrumentation-asgi==0.43b0->opentelemetry-instrumentation-fastapi>=0.41b0->chromadb) (3.7.2)\n",
            "Requirement already satisfied: monotonic>=1.5 in /usr/local/lib/python3.10/dist-packages (from posthog>=2.4.0->chromadb) (1.6)\n",
            "Requirement already satisfied: charset-normalizer<4,>=2 in /usr/local/lib/python3.10/dist-packages (from requests>=2.28->chromadb) (3.3.2)\n",
            "Requirement already satisfied: idna<4,>=2.5 in /usr/local/lib/python3.10/dist-packages (from requests>=2.28->chromadb) (3.6)\n",
            "Requirement already satisfied: huggingface_hub<1.0,>=0.16.4 in /usr/local/lib/python3.10/dist-packages (from tokenizers>=0.13.2->chromadb) (0.19.4)\n",
            "Requirement already satisfied: click<9.0.0,>=7.1.1 in /usr/local/lib/python3.10/dist-packages (from typer>=0.9.0->chromadb) (8.1.7)\n",
            "Requirement already satisfied: h11>=0.8 in /usr/local/lib/python3.10/dist-packages (from uvicorn>=0.18.3->uvicorn[standard]>=0.18.3->chromadb) (0.14.0)\n",
            "Requirement already satisfied: httptools>=0.5.0 in /usr/local/lib/python3.10/dist-packages (from uvicorn[standard]>=0.18.3->chromadb) (0.6.1)\n",
            "Requirement already satisfied: python-dotenv>=0.13 in /usr/local/lib/python3.10/dist-packages (from uvicorn[standard]>=0.18.3->chromadb) (1.0.0)\n",
            "Requirement already satisfied: uvloop!=0.15.0,!=0.15.1,>=0.14.0 in /usr/local/lib/python3.10/dist-packages (from uvicorn[standard]>=0.18.3->chromadb) (0.19.0)\n",
            "Requirement already satisfied: watchfiles>=0.13 in /usr/local/lib/python3.10/dist-packages (from uvicorn[standard]>=0.18.3->chromadb) (0.21.0)\n",
            "Requirement already satisfied: websockets>=10.4 in /usr/local/lib/python3.10/dist-packages (from uvicorn[standard]>=0.18.3->chromadb) (12.0)\n",
            "Requirement already satisfied: cachetools<6.0,>=2.0.0 in /usr/local/lib/python3.10/dist-packages (from google-auth>=1.0.1->kubernetes>=28.1.0->chromadb) (5.3.2)\n",
            "Requirement already satisfied: pyasn1-modules>=0.2.1 in /usr/local/lib/python3.10/dist-packages (from google-auth>=1.0.1->kubernetes>=28.1.0->chromadb) (0.3.0)\n",
            "Requirement already satisfied: rsa<5,>=3.1.4 in /usr/local/lib/python3.10/dist-packages (from google-auth>=1.0.1->kubernetes>=28.1.0->chromadb) (4.9)\n",
            "Requirement already satisfied: filelock in /usr/local/lib/python3.10/dist-packages (from huggingface_hub<1.0,>=0.16.4->tokenizers>=0.13.2->chromadb) (3.13.1)\n",
            "Requirement already satisfied: fsspec>=2023.5.0 in /usr/local/lib/python3.10/dist-packages (from huggingface_hub<1.0,>=0.16.4->tokenizers>=0.13.2->chromadb) (2023.6.0)\n",
            "Requirement already satisfied: zipp>=0.5 in /usr/local/lib/python3.10/dist-packages (from importlib-metadata<7.0,>=6.0->opentelemetry-api>=1.2.0->chromadb) (3.17.0)\n",
            "Requirement already satisfied: anyio<5,>=3.4.0 in /usr/local/lib/python3.10/dist-packages (from starlette<0.33.0,>=0.29.0->fastapi>=0.95.2->chromadb) (3.7.1)\n",
            "Requirement already satisfied: humanfriendly>=9.1 in /usr/local/lib/python3.10/dist-packages (from coloredlogs->onnxruntime>=1.14.1->chromadb) (10.0)\n",
            "Requirement already satisfied: mpmath>=0.19 in /usr/local/lib/python3.10/dist-packages (from sympy->onnxruntime>=1.14.1->chromadb) (1.3.0)\n",
            "Requirement already satisfied: sniffio>=1.1 in /usr/local/lib/python3.10/dist-packages (from anyio<5,>=3.4.0->starlette<0.33.0,>=0.29.0->fastapi>=0.95.2->chromadb) (1.3.0)\n",
            "Requirement already satisfied: exceptiongroup in /usr/local/lib/python3.10/dist-packages (from anyio<5,>=3.4.0->starlette<0.33.0,>=0.29.0->fastapi>=0.95.2->chromadb) (1.2.0)\n",
            "Requirement already satisfied: pyasn1<0.6.0,>=0.4.6 in /usr/local/lib/python3.10/dist-packages (from pyasn1-modules>=0.2.1->google-auth>=1.0.1->kubernetes>=28.1.0->chromadb) (0.5.1)\n",
            "\u001b[33mWARNING: Running pip as the 'root' user can result in broken permissions and conflicting behaviour with the system package manager. It is recommended to use a virtual environment instead: https://pip.pypa.io/warnings/venv\u001b[0m\u001b[33m\n",
            "\u001b[0m"
          ]
        }
      ],
      "source": [
        "pip install chromadb"
      ]
    },
    {
      "cell_type": "code",
      "execution_count": 176,
      "id": "4f810005-a35c-4fdc-a19e-c56eb3234d0d",
      "metadata": {
        "id": "4f810005-a35c-4fdc-a19e-c56eb3234d0d"
      },
      "outputs": [],
      "source": [
        "\n",
        "from langchain_google_genai import GoogleGenerativeAIEmbeddings"
      ]
    },
    {
      "cell_type": "code",
      "execution_count": 177,
      "id": "839762e7-72ee-43b1-98ad-bc428c3f694c",
      "metadata": {
        "id": "839762e7-72ee-43b1-98ad-bc428c3f694c"
      },
      "outputs": [],
      "source": [
        "text_splitter = RecursiveCharacterTextSplitter(chunk_size=10000, chunk_overlap=1000)\n",
        "context = \"\\n\\n\".join(str(p.page_content) for p in pages)\n",
        "texts = text_splitter.split_text(context)"
      ]
    },
    {
      "cell_type": "code",
      "execution_count": 178,
      "id": "4eb11a09-54cf-4cb8-8b2e-32cfb787257d",
      "metadata": {
        "id": "4eb11a09-54cf-4cb8-8b2e-32cfb787257d",
        "colab": {
          "base_uri": "https://localhost:8080/"
        },
        "outputId": "4244e6f5-29db-472f-9810-b389fe174f5f"
      },
      "outputs": [
        {
          "output_type": "execute_result",
          "data": {
            "text/plain": [
              "[\"Chapter 1  \\nLOG ENTRY: SOL 6  \\nI’m pretty much fucked. That’s my considered opinion. Fucked. Six days in to what should be a greatest \\ntwo months of my life, and it’s turned in to a nightmare. I don’t even know who’ll read this. I guess \\nsomeone will find it eventually. Maybe a hundred years from now. For the record… I didn’t die on Sol 6. \\nCertainly,  the rest of the crew thought I did, and I can’t blame them. Maybe there’ll be a day of national \\nmourning for me, and my Wikipedia page will say “Mark Watney is the only human being to have died \\non Mars.” And it’ll be right, probably. Cause I’ll surely die  here. Just not on Sol 6 when everyone thinks I \\ndid. Let’s see… where do I begin? The Ares program. Mankind reaching out to Mars to send people to \\nanother planet for the very first time and expand the horizons of humanity blah, blah, blah. The Ares 1 \\ncrew did their thing and came back heroes. They got the parades and fame and love of the world. Ares 2 \\ndid the same thing, in a different location on Mars. They got a firm handshake and a hot cup of coffee \\nwhen they got home. Ares 3. Well. That was my mission. Well, not mine per se. Commander Lewis was \\nin charge. I was just one of her crew. Actually, I was the very lowest ranked member of the crew. I would \\nonly be “in command” of the mission if I were the only remaining person. What do you know? I’m in \\ncommand. I wonder if this log will be recovered before the rest of the crew die of old age? I presume \\nthey got back to Earth all right. Well, guys, if you’re reading this: It wasn’t your fault. You did what you \\nhad to do. In your position I would have done the same  thing. I don’t blame you, and I’m glad you \\nsurvived. I guess I should explain how Mars missions work, for any layman who may be reading this. We \\ngot to earth orbit the normal way, through an ordinary ship to Hermes. All the Ares missions use Hermes \\nto get  to and from Mars. It’s really big and cost a lot so NASA only built one. Once we got to Hermes, \\nfour additional unmanned missions brought us fuel and supplies while we prepared for our trip. Once \\neverything was a go, we set out for Mars. But not very fast . Gone are the days of heavy chemical fuel \\nburns and trans -Mars injection orbits. Hermes is powered by ion engines. They throw Argon out the \\nback of the ship really fast to get a tiny amount of acceleration. The thing is, it doesn't take much \\nreactant mass , so a little Argon (and a nuclear reactor to power things) let us accelerate constantly the \\nwhole way there. You'd be amazed at how fast you can get going with a tiny acceleration over a long \\ntime. I could regale you with tales of how we had great fun on the trip, but I won’t. We did have fun, but \\nI don’t feel like reliving it right now. Suffice it to say we got to Mars 124 days later without strangling \\neach other. From there, we took the MDV (Mars Descent Vehicle) to the surface. The MDV is basically a \\nbig can with some light thrusters and parachutes attached. Its sole purpose is to get six humans from \\nMars orbit to the surface without killing any of them. And now we come to the real trick of Mars \\nexploration: Having all our shit there in advance. A total of 14 unmanned missions deposited everything \\nwe would need for surface operations. They tried their best to land all the supply vessels in the same \\ngeneral area, and did a reasonably good job. Supplies aren’t nearly so fragile as humans and can hit the \\nground really hard. But they tended to bounce around a lot. Naturally, they didn’t send us to Mars until \\nthey’d confirmed all the supplies had made it to the surface and their containers weren’t breached. Start \\nto finish, including supply missions, a Mars mis sion takes about 3 years. In fact, there were Ares 3 \\nsupplies en route to Mars while the Ares 2 crew were on their way home. The most important piece of \\nthe advance supplies, of course, was the MAV. The “Mars Ascent Vehicle.” That was how we would get\\n\\nthe advance supplies, of course, was the MAV. The “Mars Ascent Vehicle.” That was how we would get \\nback  to Hermes after surface operations were complete. The MAV was softlanded (as opposed to the \\nballoon bounce -fest the other supplies had). Of course, it was in constant communication with Houston, \\nand if there were any problems with it, we would pass by Mar s and go back to Earth without ever\\n\\nlanding. The MAV is pretty cool. Turns out, through a neat set of chemical reactions with the Martian \\natmosphere, for every kilogram of hydrogen you bring to Mars, you can make 13 kilograms of fuel. It’s a \\nslow process, though. It takes 24 months to fill t he tank. That’s why they sent it long before we got here. \\nYou can imagine how disappointed I was when I discovered the MAV was gone. It was a ridiculous \\nsequence of events that led to me almost dying. Then an even more ridiculous sequence that led to me \\nsurviving. The mission is designed to handle sandstorm gusts up to 150 km/hr. So Houston got \\nunderstandably nervous when we got whacked with 175 km/hr winds. We all got in our suits and \\nhuddled in the middle of the Hab, just in case it lost pressure. But the  Hab wasn’t the problem. The MAV \\nis a spaceship. It has a lot of delicate parts. It can put up with storms to a certain extent but it can’t just \\nget sandblasted forever. After an hour and a half of sustained wind, NASA gave the order to abort. \\nNobody wante d to stop a month -long mission after only six days but if the MAV took any more \\npunishment we’d all get stranded down here. We had to go out in the storm to get from the Hab to the \\nMAV. That was going to be risky, but what choice did we have? Everyone made  it but me. Our main \\ncommunications dish, which relayed signals from the Hab to Hermes, acted like a parachute, getting \\ntorn from its foundation and carried with the torrent. Along the way, it crashed through the reception \\nantenna array. Then one of those long thin antennae slammed in to me end first. It tore through my suit \\nlike a bullet through butter and I felt the worst pain of my life as it ripped open my side. I vaguely \\nremember suddenly having the wind knocked out of me (pulled out of me, really) and  my ears popping \\npainfully as the pressure of my suit escaped. The last thing I remember was seeing Johanssen hopelessly \\nreaching out toward me. I awoke to the oxygen alarm in my suit. A steady, obnoxious beeping that \\neventually roused me from a deep and p rofound desire to just fucking die. The storm had abated; I was \\nface down, almost totally buried in sand. As I groggily came to, I wondered why I wasn’t more dead. The \\nantenna had enough force to punch through the suit and my side, but then it got stopped by my pelvis. \\nSo there was only one hole in the suit (and a hole in me, of course). I had been knocked back quite a \\nways and rolled down a steep hill. Somehow I landed face down, which forced the antenna to a strongly \\noblique angle that put a lot of torque  on the hole in the suit. It made a weak seal. Then, the copious \\nblood from my wound trickled down toward the hole. As the blood reached the site of the breach, the \\nwater in it quickly evaporated from the airflow and low pressure, leaving only a gunky resi due behind. \\nMore blood came in behind it and was also reduced to gunk. Eventually, the blood sealed the gaps \\naround the hole and reduced the leak to something the suit could counteract. The suit did its job \\nadmirably. Seeing the drop in pressure, it consta ntly flooded itself with air from my nitrogen tank to \\nequalize. Once the leak became manageable, it only had to trickle new air in slowly the relieve the air \\nlost. After a while, the CO2 (carbon dioxide) absorbers in the suit were expended. That’s really t he \\nlimiting factor to life support. Not the amount of oxygen you bring with you, but the amount of CO2 you \\ncan remove. In the Hab, we had the Oxygenator, a large piece of equipment that could break CO2 apart \\nand give the oxygen back. But the spacesuits had  to be portable, so they used a simple chemical \\nabsorption process with expendable filters. I’d been asleep long enough that my filters were useless. \\nThe suit saw this problem and moved in to an emergency mode the engineers call “bloodletting”. Having \\nno w ay to separate out the CO2, the suit deliberately vented air to the Martian atmosphere, then back -\\n\\nno w ay to separate out the CO2, the suit deliberately vented air to the Martian atmosphere, then back -\\nfilled with nitrogen. Between the breach and the bloodletting, it quickly ran out of nitrogen. All it had \\nleft was my oxygen tank. So it did the only thing it  could to keep me alive. It started backfilling with pure \\noxygen. I now risked dying from oxygen toxicity, as the excessively high amount of oxygen threatened to \\nburn up my nervous system, lungs, and eyes. An ironic death for someone with a leaky space sui t: too \\nmuch oxygen. Every step of the way would have had beeping alarms, alerts, and warnings. But it was the\",\n",
              " 'no w ay to separate out the CO2, the suit deliberately vented air to the Martian atmosphere, then back -\\nfilled with nitrogen. Between the breach and the bloodletting, it quickly ran out of nitrogen. All it had \\nleft was my oxygen tank. So it did the only thing it  could to keep me alive. It started backfilling with pure \\noxygen. I now risked dying from oxygen toxicity, as the excessively high amount of oxygen threatened to \\nburn up my nervous system, lungs, and eyes. An ironic death for someone with a leaky space sui t: too \\nmuch oxygen. Every step of the way would have had beeping alarms, alerts, and warnings. But it was the\\n\\nhigh -oxygen warning that woke me. The sheer volume of training for a space mission is astounding. I \\nspent a week back on Earth practicing emergency space suit drills. I knew what to do. Carefully reaching \\nto the side of my helmet, I got the breach kit. It’ s nothing more than a funnel with a valve at the small \\nend, and an unbelievably sticky resin on the wide end. The idea is you have the valve open and stick the \\nwide end over a hole. The air can escape through the valve, so it doesn’t interfere with the res in making \\na good seal. Then you close the valve and you’ve sealed the breach. The tricky part was getting the \\nantenna out of the way. I pulled it out as fast as I could, wincing as the sudden pressure drop dizzied me \\nand made the wound in my side scream in  agony. I got the breach kit over the hole and sealed it. It held. \\nThe suit backfilled the missing air with yet more oxygen. Checking my arm readouts, I saw the suit was \\nnow at 85% oxygen. For reference, Earth’s atmosphere is about 21%. I’d be ok, so long as I didn’t spend \\ntoo much time like that. I stumbled up the hill back toward the Hab. As I crested the rise, I saw \\nsomething that made me very happy and something that made me very sad: The Hab was in -tact (yay!) \\nand the MAV was gone (boo!). Right that mo ment I knew I was screwed. But I didn’t want to just die out \\non the surface. I limped back to the Hab and fumbled my way in to an airlock. As soon as it equalized, I \\nthrew off my helmet. Entering the Hab, I doffed the suit and got my first good look at the  injury. It would \\nneed stitches. Fortunately, all of us had been trained in basic medical procedures, and the Hab had \\nexcellent medical supplies. A quick shot of local anesthetic, irrigate the wound, 9 stitches and I was \\ndone. I’d be taking antibiotics for  a couple of weeks, but other than that I’d be fine. I knew it was \\nhopeless, but I tried firing up the communication array. No signal, of course. The primary satellite dish \\nhad broken off, remember? And it took the reception antennae with it. The Hab had s econdary and \\ntertiary communication systems, but they were both just for talking to the MAV, which would use its \\nmuch more powerful systems to relay to Hermes. Thing is, that only works if the MAV is still around. I \\nhad no way to talk to Hermes. In time, I  could locate the dish out on the surface, but it would take weeks \\nfor me to rig up any repairs, and that would be too late. In an abort, Hermes would leave orbit within 24 \\nhours. The orbital dynamics made the trip safer and shorter the earlier you left, s o why wait for no \\nreason just to make the trip take longer? Checking out my suit, I saw the antenna had plowed through \\nmy biomonitor computer. When on an EVA, all the crew’s suits are networked so we can see each others \\nstatus. The rest of the crew would h ave seen the pressure in my suit drop to nearly 0, followed \\nimmediately by my biosigns going flat. Add to that I was sent tumbling down a hill with a spear through \\nme in the middle of a sandstorm… yeah. They thought I was dead. How could they not? They may  have \\neven had a brief discussion about recovering my body, but regulations were clear. In the event a \\ncrewman died on Mars, he stayed on Mars. Leaving his body behind reduced weight for the MAV on the \\ntrip back. That meant more disposable fuel and a large r margin of error for the return thrust. No point in \\ngiving that up for sentimentality. So that’s the situation. I’m stranded on Mars. I have no way to \\ncommunicate with Hermes or Earth. Everyone thinks I’m dead. I’m in a Hab designed to last 31 days. If \\nthe Oxygenator breaks down, I’ll suffocate. If the Water Reclaimer breaks down, I’ll die of thirst. If the \\nHab breaches, I’ll just kind of explode. If none of those things happen, I’ll eventually run out of food and \\nstarve to death. So yeah. I’m fucked.']"
            ]
          },
          "metadata": {},
          "execution_count": 178
        }
      ],
      "source": [
        "texts"
      ]
    },
    {
      "cell_type": "code",
      "execution_count": 179,
      "id": "8b053348-b626-47d3-967a-1b6d3bc64bfb",
      "metadata": {
        "id": "8b053348-b626-47d3-967a-1b6d3bc64bfb"
      },
      "outputs": [],
      "source": [
        "embeddings = GoogleGenerativeAIEmbeddings(model=\"models/embedding-001\",google_api_key=google_api_key)\n"
      ]
    },
    {
      "cell_type": "code",
      "execution_count": 180,
      "id": "43308a24-a927-48f5-a922-7d71ebfe3e6c",
      "metadata": {
        "colab": {
          "base_uri": "https://localhost:8080/"
        },
        "id": "43308a24-a927-48f5-a922-7d71ebfe3e6c",
        "outputId": "a3755de3-f8b3-4a0f-9823-03e03fb7bd4e"
      },
      "outputs": [
        {
          "output_type": "execute_result",
          "data": {
            "text/plain": [
              "GoogleGenerativeAIEmbeddings(model='models/embedding-001', task_type=None, google_api_key=SecretStr('**********'))"
            ]
          },
          "metadata": {},
          "execution_count": 180
        }
      ],
      "source": [
        "embeddings"
      ]
    },
    {
      "cell_type": "code",
      "source": [
        "pip install chromadb"
      ],
      "metadata": {
        "colab": {
          "base_uri": "https://localhost:8080/"
        },
        "id": "IPQ6hFTAsFdt",
        "outputId": "4a3c8b1b-2e6a-40c1-e16e-dac971947cc5"
      },
      "id": "IPQ6hFTAsFdt",
      "execution_count": 181,
      "outputs": [
        {
          "output_type": "stream",
          "name": "stdout",
          "text": [
            "Requirement already satisfied: chromadb in /usr/local/lib/python3.10/dist-packages (0.4.21)\n",
            "Requirement already satisfied: requests>=2.28 in /usr/local/lib/python3.10/dist-packages (from chromadb) (2.31.0)\n",
            "Requirement already satisfied: pydantic>=1.9 in /usr/local/lib/python3.10/dist-packages (from chromadb) (1.10.13)\n",
            "Requirement already satisfied: chroma-hnswlib==0.7.3 in /usr/local/lib/python3.10/dist-packages (from chromadb) (0.7.3)\n",
            "Requirement already satisfied: fastapi>=0.95.2 in /usr/local/lib/python3.10/dist-packages (from chromadb) (0.108.0)\n",
            "Requirement already satisfied: uvicorn>=0.18.3 in /usr/local/lib/python3.10/dist-packages (from uvicorn[standard]>=0.18.3->chromadb) (0.25.0)\n",
            "Requirement already satisfied: numpy>=1.22.5 in /usr/local/lib/python3.10/dist-packages (from chromadb) (1.23.5)\n",
            "Requirement already satisfied: posthog>=2.4.0 in /usr/local/lib/python3.10/dist-packages (from chromadb) (3.1.0)\n",
            "Requirement already satisfied: typing-extensions>=4.5.0 in /usr/local/lib/python3.10/dist-packages (from chromadb) (4.9.0)\n",
            "Requirement already satisfied: pulsar-client>=3.1.0 in /usr/local/lib/python3.10/dist-packages (from chromadb) (3.3.0)\n",
            "Requirement already satisfied: onnxruntime>=1.14.1 in /usr/local/lib/python3.10/dist-packages (from chromadb) (1.16.3)\n",
            "Requirement already satisfied: opentelemetry-api>=1.2.0 in /usr/local/lib/python3.10/dist-packages (from chromadb) (1.22.0)\n",
            "Requirement already satisfied: opentelemetry-exporter-otlp-proto-grpc>=1.2.0 in /usr/local/lib/python3.10/dist-packages (from chromadb) (1.22.0)\n",
            "Requirement already satisfied: opentelemetry-instrumentation-fastapi>=0.41b0 in /usr/local/lib/python3.10/dist-packages (from chromadb) (0.43b0)\n",
            "Requirement already satisfied: opentelemetry-sdk>=1.2.0 in /usr/local/lib/python3.10/dist-packages (from chromadb) (1.22.0)\n",
            "Requirement already satisfied: tokenizers>=0.13.2 in /usr/local/lib/python3.10/dist-packages (from chromadb) (0.15.0)\n",
            "Requirement already satisfied: pypika>=0.48.9 in /usr/local/lib/python3.10/dist-packages (from chromadb) (0.48.9)\n",
            "Requirement already satisfied: tqdm>=4.65.0 in /usr/local/lib/python3.10/dist-packages (from chromadb) (4.66.1)\n",
            "Requirement already satisfied: overrides>=7.3.1 in /usr/local/lib/python3.10/dist-packages (from chromadb) (7.4.0)\n",
            "Requirement already satisfied: importlib-resources in /usr/local/lib/python3.10/dist-packages (from chromadb) (6.1.1)\n",
            "Requirement already satisfied: grpcio>=1.58.0 in /usr/local/lib/python3.10/dist-packages (from chromadb) (1.60.0)\n",
            "Requirement already satisfied: bcrypt>=4.0.1 in /usr/local/lib/python3.10/dist-packages (from chromadb) (4.1.2)\n",
            "Requirement already satisfied: typer>=0.9.0 in /usr/local/lib/python3.10/dist-packages (from chromadb) (0.9.0)\n",
            "Requirement already satisfied: kubernetes>=28.1.0 in /usr/local/lib/python3.10/dist-packages (from chromadb) (28.1.0)\n",
            "Requirement already satisfied: tenacity>=8.2.3 in /usr/local/lib/python3.10/dist-packages (from chromadb) (8.2.3)\n",
            "Requirement already satisfied: PyYAML>=6.0.0 in /usr/local/lib/python3.10/dist-packages (from chromadb) (6.0.1)\n",
            "Requirement already satisfied: mmh3>=4.0.1 in /usr/local/lib/python3.10/dist-packages (from chromadb) (4.0.1)\n",
            "Requirement already satisfied: starlette<0.33.0,>=0.29.0 in /usr/local/lib/python3.10/dist-packages (from fastapi>=0.95.2->chromadb) (0.32.0.post1)\n",
            "Requirement already satisfied: certifi>=14.05.14 in /usr/local/lib/python3.10/dist-packages (from kubernetes>=28.1.0->chromadb) (2023.11.17)\n",
            "Requirement already satisfied: six>=1.9.0 in /usr/local/lib/python3.10/dist-packages (from kubernetes>=28.1.0->chromadb) (1.16.0)\n",
            "Requirement already satisfied: python-dateutil>=2.5.3 in /usr/local/lib/python3.10/dist-packages (from kubernetes>=28.1.0->chromadb) (2.8.2)\n",
            "Requirement already satisfied: google-auth>=1.0.1 in /usr/local/lib/python3.10/dist-packages (from kubernetes>=28.1.0->chromadb) (2.17.3)\n",
            "Requirement already satisfied: websocket-client!=0.40.0,!=0.41.*,!=0.42.*,>=0.32.0 in /usr/local/lib/python3.10/dist-packages (from kubernetes>=28.1.0->chromadb) (1.7.0)\n",
            "Requirement already satisfied: requests-oauthlib in /usr/local/lib/python3.10/dist-packages (from kubernetes>=28.1.0->chromadb) (1.3.1)\n",
            "Requirement already satisfied: oauthlib>=3.2.2 in /usr/local/lib/python3.10/dist-packages (from kubernetes>=28.1.0->chromadb) (3.2.2)\n",
            "Requirement already satisfied: urllib3<2.0,>=1.24.2 in /usr/local/lib/python3.10/dist-packages (from kubernetes>=28.1.0->chromadb) (1.26.18)\n",
            "Requirement already satisfied: coloredlogs in /usr/local/lib/python3.10/dist-packages (from onnxruntime>=1.14.1->chromadb) (15.0.1)\n",
            "Requirement already satisfied: flatbuffers in /usr/local/lib/python3.10/dist-packages (from onnxruntime>=1.14.1->chromadb) (23.5.26)\n",
            "Requirement already satisfied: packaging in /usr/local/lib/python3.10/dist-packages (from onnxruntime>=1.14.1->chromadb) (23.2)\n",
            "Requirement already satisfied: protobuf in /usr/local/lib/python3.10/dist-packages (from onnxruntime>=1.14.1->chromadb) (3.20.3)\n",
            "Requirement already satisfied: sympy in /usr/local/lib/python3.10/dist-packages (from onnxruntime>=1.14.1->chromadb) (1.12)\n",
            "Requirement already satisfied: deprecated>=1.2.6 in /usr/local/lib/python3.10/dist-packages (from opentelemetry-api>=1.2.0->chromadb) (1.2.14)\n",
            "Requirement already satisfied: importlib-metadata<7.0,>=6.0 in /usr/local/lib/python3.10/dist-packages (from opentelemetry-api>=1.2.0->chromadb) (6.11.0)\n",
            "Requirement already satisfied: backoff<3.0.0,>=1.10.0 in /usr/local/lib/python3.10/dist-packages (from opentelemetry-exporter-otlp-proto-grpc>=1.2.0->chromadb) (2.2.1)\n",
            "Requirement already satisfied: googleapis-common-protos~=1.52 in /usr/local/lib/python3.10/dist-packages (from opentelemetry-exporter-otlp-proto-grpc>=1.2.0->chromadb) (1.62.0)\n",
            "Requirement already satisfied: opentelemetry-exporter-otlp-proto-common==1.22.0 in /usr/local/lib/python3.10/dist-packages (from opentelemetry-exporter-otlp-proto-grpc>=1.2.0->chromadb) (1.22.0)\n",
            "Requirement already satisfied: opentelemetry-proto==1.22.0 in /usr/local/lib/python3.10/dist-packages (from opentelemetry-exporter-otlp-proto-grpc>=1.2.0->chromadb) (1.22.0)\n",
            "Requirement already satisfied: opentelemetry-instrumentation-asgi==0.43b0 in /usr/local/lib/python3.10/dist-packages (from opentelemetry-instrumentation-fastapi>=0.41b0->chromadb) (0.43b0)\n",
            "Requirement already satisfied: opentelemetry-instrumentation==0.43b0 in /usr/local/lib/python3.10/dist-packages (from opentelemetry-instrumentation-fastapi>=0.41b0->chromadb) (0.43b0)\n",
            "Requirement already satisfied: opentelemetry-semantic-conventions==0.43b0 in /usr/local/lib/python3.10/dist-packages (from opentelemetry-instrumentation-fastapi>=0.41b0->chromadb) (0.43b0)\n",
            "Requirement already satisfied: opentelemetry-util-http==0.43b0 in /usr/local/lib/python3.10/dist-packages (from opentelemetry-instrumentation-fastapi>=0.41b0->chromadb) (0.43b0)\n",
            "Requirement already satisfied: setuptools>=16.0 in /usr/local/lib/python3.10/dist-packages (from opentelemetry-instrumentation==0.43b0->opentelemetry-instrumentation-fastapi>=0.41b0->chromadb) (67.7.2)\n",
            "Requirement already satisfied: wrapt<2.0.0,>=1.0.0 in /usr/local/lib/python3.10/dist-packages (from opentelemetry-instrumentation==0.43b0->opentelemetry-instrumentation-fastapi>=0.41b0->chromadb) (1.14.1)\n",
            "Requirement already satisfied: asgiref~=3.0 in /usr/local/lib/python3.10/dist-packages (from opentelemetry-instrumentation-asgi==0.43b0->opentelemetry-instrumentation-fastapi>=0.41b0->chromadb) (3.7.2)\n",
            "Requirement already satisfied: monotonic>=1.5 in /usr/local/lib/python3.10/dist-packages (from posthog>=2.4.0->chromadb) (1.6)\n",
            "Requirement already satisfied: charset-normalizer<4,>=2 in /usr/local/lib/python3.10/dist-packages (from requests>=2.28->chromadb) (3.3.2)\n",
            "Requirement already satisfied: idna<4,>=2.5 in /usr/local/lib/python3.10/dist-packages (from requests>=2.28->chromadb) (3.6)\n",
            "Requirement already satisfied: huggingface_hub<1.0,>=0.16.4 in /usr/local/lib/python3.10/dist-packages (from tokenizers>=0.13.2->chromadb) (0.19.4)\n",
            "Requirement already satisfied: click<9.0.0,>=7.1.1 in /usr/local/lib/python3.10/dist-packages (from typer>=0.9.0->chromadb) (8.1.7)\n",
            "Requirement already satisfied: h11>=0.8 in /usr/local/lib/python3.10/dist-packages (from uvicorn>=0.18.3->uvicorn[standard]>=0.18.3->chromadb) (0.14.0)\n",
            "Requirement already satisfied: httptools>=0.5.0 in /usr/local/lib/python3.10/dist-packages (from uvicorn[standard]>=0.18.3->chromadb) (0.6.1)\n",
            "Requirement already satisfied: python-dotenv>=0.13 in /usr/local/lib/python3.10/dist-packages (from uvicorn[standard]>=0.18.3->chromadb) (1.0.0)\n",
            "Requirement already satisfied: uvloop!=0.15.0,!=0.15.1,>=0.14.0 in /usr/local/lib/python3.10/dist-packages (from uvicorn[standard]>=0.18.3->chromadb) (0.19.0)\n",
            "Requirement already satisfied: watchfiles>=0.13 in /usr/local/lib/python3.10/dist-packages (from uvicorn[standard]>=0.18.3->chromadb) (0.21.0)\n",
            "Requirement already satisfied: websockets>=10.4 in /usr/local/lib/python3.10/dist-packages (from uvicorn[standard]>=0.18.3->chromadb) (12.0)\n",
            "Requirement already satisfied: cachetools<6.0,>=2.0.0 in /usr/local/lib/python3.10/dist-packages (from google-auth>=1.0.1->kubernetes>=28.1.0->chromadb) (5.3.2)\n",
            "Requirement already satisfied: pyasn1-modules>=0.2.1 in /usr/local/lib/python3.10/dist-packages (from google-auth>=1.0.1->kubernetes>=28.1.0->chromadb) (0.3.0)\n",
            "Requirement already satisfied: rsa<5,>=3.1.4 in /usr/local/lib/python3.10/dist-packages (from google-auth>=1.0.1->kubernetes>=28.1.0->chromadb) (4.9)\n",
            "Requirement already satisfied: filelock in /usr/local/lib/python3.10/dist-packages (from huggingface_hub<1.0,>=0.16.4->tokenizers>=0.13.2->chromadb) (3.13.1)\n",
            "Requirement already satisfied: fsspec>=2023.5.0 in /usr/local/lib/python3.10/dist-packages (from huggingface_hub<1.0,>=0.16.4->tokenizers>=0.13.2->chromadb) (2023.6.0)\n",
            "Requirement already satisfied: zipp>=0.5 in /usr/local/lib/python3.10/dist-packages (from importlib-metadata<7.0,>=6.0->opentelemetry-api>=1.2.0->chromadb) (3.17.0)\n",
            "Requirement already satisfied: anyio<5,>=3.4.0 in /usr/local/lib/python3.10/dist-packages (from starlette<0.33.0,>=0.29.0->fastapi>=0.95.2->chromadb) (3.7.1)\n",
            "Requirement already satisfied: humanfriendly>=9.1 in /usr/local/lib/python3.10/dist-packages (from coloredlogs->onnxruntime>=1.14.1->chromadb) (10.0)\n",
            "Requirement already satisfied: mpmath>=0.19 in /usr/local/lib/python3.10/dist-packages (from sympy->onnxruntime>=1.14.1->chromadb) (1.3.0)\n",
            "Requirement already satisfied: sniffio>=1.1 in /usr/local/lib/python3.10/dist-packages (from anyio<5,>=3.4.0->starlette<0.33.0,>=0.29.0->fastapi>=0.95.2->chromadb) (1.3.0)\n",
            "Requirement already satisfied: exceptiongroup in /usr/local/lib/python3.10/dist-packages (from anyio<5,>=3.4.0->starlette<0.33.0,>=0.29.0->fastapi>=0.95.2->chromadb) (1.2.0)\n",
            "Requirement already satisfied: pyasn1<0.6.0,>=0.4.6 in /usr/local/lib/python3.10/dist-packages (from pyasn1-modules>=0.2.1->google-auth>=1.0.1->kubernetes>=28.1.0->chromadb) (0.5.1)\n",
            "\u001b[33mWARNING: Running pip as the 'root' user can result in broken permissions and conflicting behaviour with the system package manager. It is recommended to use a virtual environment instead: https://pip.pypa.io/warnings/venv\u001b[0m\u001b[33m\n",
            "\u001b[0m"
          ]
        }
      ]
    },
    {
      "cell_type": "code",
      "execution_count": 182,
      "id": "3e2e12df-25e1-4a49-b789-6e90d36d3ceb",
      "metadata": {
        "colab": {
          "base_uri": "https://localhost:8080/"
        },
        "id": "3e2e12df-25e1-4a49-b789-6e90d36d3ceb",
        "outputId": "0f94f426-9e6c-4991-ae94-b3af002a6fdd"
      },
      "outputs": [
        {
          "output_type": "execute_result",
          "data": {
            "text/plain": [
              "langchain_community.vectorstores.chroma.Chroma"
            ]
          },
          "metadata": {},
          "execution_count": 182
        }
      ],
      "source": [
        "Chroma"
      ]
    },
    {
      "cell_type": "code",
      "execution_count": 183,
      "id": "90454dce-4049-476f-925b-0cac26a7adf9",
      "metadata": {
        "id": "90454dce-4049-476f-925b-0cac26a7adf9"
      },
      "outputs": [],
      "source": [
        "vector_index = Chroma.from_texts(texts, embeddings).as_retriever(search_kwargs={\"k\":5})"
      ]
    },
    {
      "cell_type": "code",
      "execution_count": 184,
      "id": "d69eb010-6a27-4b77-a6bf-8ab4e36f7a86",
      "metadata": {
        "id": "d69eb010-6a27-4b77-a6bf-8ab4e36f7a86"
      },
      "outputs": [],
      "source": [
        "\n",
        "qa_chain = RetrievalQA.from_chain_type(\n",
        "    model_safety_none,\n",
        "    retriever=vector_index,\n",
        "    return_source_documents=True\n",
        "\n",
        "\n",
        ")"
      ]
    },
    {
      "cell_type": "code",
      "source": [
        "model_safety_none"
      ],
      "metadata": {
        "colab": {
          "base_uri": "https://localhost:8080/"
        },
        "id": "hO43bAn0xzIB",
        "outputId": "2602e592-9349-4179-b4de-d5c2c5c637a0"
      },
      "id": "hO43bAn0xzIB",
      "execution_count": 185,
      "outputs": [
        {
          "output_type": "execute_result",
          "data": {
            "text/plain": [
              "ChatGoogleGenerativeAI(model='gemini-pro', client= genai.GenerativeModel(\n",
              "   model_name='models/gemini-pro',\n",
              "   generation_config={}.\n",
              "   safety_settings={}\n",
              "), google_api_key=SecretStr('**********'), temperature=0.2, convert_system_message_to_human=True)"
            ]
          },
          "metadata": {},
          "execution_count": 185
        }
      ]
    },
    {
      "cell_type": "code",
      "execution_count": 186,
      "id": "8fff378a-80fa-4b0d-93c1-23cccb713972",
      "metadata": {
        "colab": {
          "base_uri": "https://localhost:8080/",
          "height": 70
        },
        "id": "8fff378a-80fa-4b0d-93c1-23cccb713972",
        "outputId": "cc32bb17-0dc0-44a6-dcb4-cda13556d211"
      },
      "outputs": [
        {
          "output_type": "execute_result",
          "data": {
            "text/plain": [
              "'On Sol 6, a fierce sandstorm with winds of 175 km/hr forces the Ares 3 crew to abort their mission and seek shelter in the Hab. Mark Watney, a botanist on the mission, is struck by an antenna during the storm and is presumed dead by the rest of the crew. However, Watney survives the accident and finds himself stranded on Mars with limited supplies and no way to contact Earth.'"
            ],
            "application/vnd.google.colaboratory.intrinsic+json": {
              "type": "string"
            }
          },
          "metadata": {},
          "execution_count": 186
        }
      ],
      "source": [
        "question = \"Describe whats happening in SOL 6?\"\n",
        "result = qa_chain({\"query\": question})\n",
        "result[\"result\"]"
      ]
    },
    {
      "cell_type": "code",
      "execution_count": 187,
      "id": "443fe712-a02e-4830-85ef-11566ebaea74",
      "metadata": {
        "colab": {
          "base_uri": "https://localhost:8080/",
          "height": 81
        },
        "id": "443fe712-a02e-4830-85ef-11566ebaea74",
        "outputId": "1979b8a9-b628-4936-9a45-3b371cb61fc6"
      },
      "outputs": [
        {
          "output_type": "execute_result",
          "data": {
            "text/plain": [
              "<IPython.core.display.Markdown object>"
            ],
            "text/markdown": "On Sol 6, a fierce sandstorm with winds of 175 km/hr forces the Ares 3 crew to abort their mission and seek shelter in the Hab. Mark Watney, a botanist on the mission, is struck by an antenna during the storm and is presumed dead by the rest of the crew. However, Watney survives the accident and finds himself stranded on Mars with limited supplies and no way to contact Earth."
          },
          "metadata": {},
          "execution_count": 187
        }
      ],
      "source": [
        "\n",
        "Markdown(result[\"result\"])"
      ]
    },
    {
      "cell_type": "code",
      "source": [
        "\n",
        "result[\"source_documents\"]\n"
      ],
      "metadata": {
        "colab": {
          "base_uri": "https://localhost:8080/"
        },
        "id": "wzrQiNSEOSMV",
        "outputId": "bc0b980b-0e6d-4a10-e0a8-527c0ab3df88"
      },
      "id": "wzrQiNSEOSMV",
      "execution_count": 193,
      "outputs": [
        {
          "output_type": "execute_result",
          "data": {
            "text/plain": [
              "[Document(page_content='Attention Visualizations\\nInput-Input Layer5\\nIt\\nis\\nin\\nthis\\nspirit\\nthat\\na\\nmajority\\nof\\nAmerican\\ngovernments\\nhave\\npassed\\nnew\\nlaws\\nsince\\n2009\\nmaking\\nthe\\nregistration\\nor\\nvoting\\nprocess\\nmore\\ndifficult\\n.\\n<EOS>\\n<pad>\\n<pad>\\n<pad>\\n<pad>\\n<pad>\\n<pad>\\nIt\\nis\\nin\\nthis\\nspirit\\nthat\\na\\nmajority\\nof\\nAmerican\\ngovernments\\nhave\\npassed\\nnew\\nlaws\\nsince\\n2009\\nmaking\\nthe\\nregistration\\nor\\nvoting\\nprocess\\nmore\\ndifficult\\n.\\n<EOS>\\n<pad>\\n<pad>\\n<pad>\\n<pad>\\n<pad>\\n<pad>\\nFigure 3: An example of the attention mechanism following long-distance dependencies in the\\nencoder self-attention in layer 5 of 6. Many of the attention heads attend to a distant dependency of\\nthe verb ‘making’, completing the phrase ‘making...more difficult’. Attentions here shown only for\\nthe word ‘making’. Different colors represent different heads. Best viewed in color.\\n13\\n\\nInput-Input Layer5\\nThe\\nLaw\\nwill\\nnever\\nbe\\nperfect\\n,\\nbut\\nits\\napplication\\nshould\\nbe\\njust\\n-\\nthis\\nis\\nwhat\\nwe\\nare\\nmissing\\n,\\nin\\nmy\\nopinion\\n.\\n<EOS>\\n<pad>\\nThe\\nLaw\\nwill\\nnever\\nbe\\nperfect\\n,\\nbut\\nits\\napplication\\nshould\\nbe\\njust\\n-\\nthis\\nis\\nwhat\\nwe\\nare\\nmissing\\n,\\nin\\nmy\\nopinion\\n.\\n<EOS>\\n<pad>\\nInput-Input Layer5\\nThe\\nLaw\\nwill\\nnever\\nbe\\nperfect\\n,\\nbut\\nits\\napplication\\nshould\\nbe\\njust\\n-\\nthis\\nis\\nwhat\\nwe\\nare\\nmissing\\n,\\nin\\nmy\\nopinion\\n.\\n<EOS>\\n<pad>\\nThe\\nLaw\\nwill\\nnever\\nbe\\nperfect\\n,\\nbut\\nits\\napplication\\nshould\\nbe\\njust\\n-\\nthis\\nis\\nwhat\\nwe\\nare\\nmissing\\n,\\nin\\nmy\\nopinion\\n.\\n<EOS>\\n<pad>Figure 4: Two attention heads, also in layer 5 of 6, apparently involved in anaphora resolution. Top:\\nFull attentions for head 5. Bottom: Isolated attentions from just the word ‘its’ for attention heads 5\\nand 6. Note that the attentions are very sharp for this word.\\n14\\n\\nInput-Input Layer5\\nThe\\nLaw\\nwill\\nnever\\nbe\\nperfect\\n,\\nbut\\nits\\napplication\\nshould\\nbe\\njust\\n-\\nthis\\nis\\nwhat\\nwe\\nare\\nmissing\\n,\\nin\\nmy\\nopinion\\n.\\n<EOS>\\n<pad>\\nThe\\nLaw\\nwill\\nnever\\nbe\\nperfect\\n,\\nbut\\nits\\napplication\\nshould\\nbe\\njust\\n-\\nthis\\nis\\nwhat\\nwe\\nare\\nmissing\\n,\\nin\\nmy\\nopinion\\n.\\n<EOS>\\n<pad>\\nInput-Input Layer5\\nThe\\nLaw\\nwill\\nnever\\nbe\\nperfect\\n,\\nbut\\nits\\napplication\\nshould\\nbe\\njust\\n-\\nthis\\nis\\nwhat\\nwe\\nare\\nmissing\\n,\\nin\\nmy\\nopinion\\n.\\n<EOS>\\n<pad>\\nThe\\nLaw\\nwill\\nnever\\nbe\\nperfect\\n,\\nbut\\nits\\napplication\\nshould\\nbe\\njust\\n-\\nthis\\nis\\nwhat\\nwe\\nare\\nmissing\\n,\\nin\\nmy\\nopinion\\n.\\n<EOS>\\n<pad>Figure 5: Many of the attention heads exhibit behaviour that seems related to the structure of the\\nsentence. We give two such examples above, from two different heads from the encoder self-attention\\nat layer 5 of 6. The heads clearly learned to perform different tasks.\\n15'),\n",
              " Document(page_content='Scaled Dot-Product Attention\\n Multi-Head Attention\\nFigure 2: (left) Scaled Dot-Product Attention. (right) Multi-Head Attention consists of several\\nattention layers running in parallel.\\nof the values, where the weight assigned to each value is computed by a compatibility function of the\\nquery with the corresponding key.\\n3.2.1 Scaled Dot-Product Attention\\nWe call our particular attention \"Scaled Dot-Product Attention\" (Figure 2). The input consists of\\nqueries and keys of dimension dk, and values of dimension dv. We compute the dot products of the\\nquery with all keys, divide each by√dk, and apply a softmax function to obtain the weights on the\\nvalues.\\nIn practice, we compute the attention function on a set of queries simultaneously, packed together\\ninto a matrix Q. The keys and values are also packed together into matrices KandV. We compute\\nthe matrix of outputs as:\\nAttention( Q, K, V ) = softmax(QKT\\n√dk)V (1)\\nThe two most commonly used attention functions are additive attention [ 2], and dot-product (multi-\\nplicative) attention. Dot-product attention is identical to our algorithm, except for the scaling factor\\nof1√dk. Additive attention computes the compatibility function using a feed-forward network with\\na single hidden layer. While the two are similar in theoretical complexity, dot-product attention is\\nmuch faster and more space-efficient in practice, since it can be implemented using highly optimized\\nmatrix multiplication code.\\nWhile for small values of dkthe two mechanisms perform similarly, additive attention outperforms\\ndot product attention without scaling for larger values of dk[3]. We suspect that for large values of\\ndk, the dot products grow large in magnitude, pushing the softmax function into regions where it has\\nextremely small gradients4. To counteract this effect, we scale the dot products by1√dk.\\n3.2.2 Multi-Head Attention\\nInstead of performing a single attention function with dmodel-dimensional keys, values and queries,\\nwe found it beneficial to linearly project the queries, keys and values htimes with different, learned\\nlinear projections to dk,dkanddvdimensions, respectively. On each of these projected versions of\\nqueries, keys and values we then perform the attention function in parallel, yielding dv-dimensional\\n4To illustrate why the dot products get large, assume that the components of qandkare independent random\\nvariables with mean 0and variance 1. Then their dot product, q·k=Pdk\\ni=1qiki, has mean 0and variance dk.\\n4\\n\\noutput values. These are concatenated and once again projected, resulting in the final values, as\\ndepicted in Figure 2.\\nMulti-head attention allows the model to jointly attend to information from different representation\\nsubspaces at different positions. With a single attention head, averaging inhibits this.\\nMultiHead( Q, K, V ) = Concat(head 1, ...,head h)WO\\nwhere head i= Attention( QWQ\\ni, KWK\\ni, V WV\\ni)\\nWhere the projections are parameter matrices WQ\\ni∈Rdmodel×dk,WK\\ni∈Rdmodel×dk,WV\\ni∈Rdmodel×dv\\nandWO∈Rhdv×dmodel.\\nIn this work we employ h= 8 parallel attention layers, or heads. For each of these we use\\ndk=dv=dmodel/h= 64 . Due to the reduced dimension of each head, the total computational cost\\nis similar to that of single-head attention with full dimensionality.\\n3.2.3 Applications of Attention in our Model\\nThe Transformer uses multi-head attention in three different ways:\\n•In \"encoder-decoder attention\" layers, the queries come from the previous decoder layer,\\nand the memory keys and values come from the output of the encoder. This allows every\\nposition in the decoder to attend over all positions in the input sequence. This mimics the\\ntypical encoder-decoder attention mechanisms in sequence-to-sequence models such as\\n[38, 2, 9].\\n•The encoder contains self-attention layers. In a self-attention layer all of the keys, values\\nand queries come from the same place, in this case, the output of the previous layer in the\\nencoder. Each position in the encoder can attend to all positions in the previous layer of the\\nencoder.\\n•Similarly, self-attention layers in the decoder allow each position in the decoder to attend to\\nall positions in the decoder up to and including that position. We need to prevent leftward\\ninformation flow in the decoder to preserve the auto-regressive property. We implement this\\ninside of scaled dot-product attention by masking out (setting to −∞) all values in the input\\nof the softmax which correspond to illegal connections. See Figure 2.\\n3.3 Position-wise Feed-Forward Networks\\nIn addition to attention sub-layers, each of the layers in our encoder and decoder contains a fully\\nconnected feed-forward network, which is applied to each position separately and identically. This\\nconsists of two linear transformations with a ReLU activation in between.\\nFFN( x) = max(0 , xW 1+b1)W2+b2 (2)\\nWhile the linear transformations are the same across different positions, they use different parameters\\nfrom layer to layer. Another way of describing this is as two convolutions with kernel size 1.\\nThe dimensionality of input and output is dmodel = 512 , and the inner-layer has dimensionality\\ndff= 2048 .\\n3.4 Embeddings and Softmax\\nSimilarly to other sequence transduction models, we use learned embeddings to convert the input\\ntokens and output tokens to vectors of dimension dmodel. We also use the usual learned linear transfor-\\nmation and softmax function to convert the decoder output to predicted next-token probabilities. In\\nour model, we share the same weight matrix between the two embedding layers and the pre-softmax\\nlinear transformation, similar to [ 30]. In the embedding layers, we multiply those weights by√dmodel.\\n5\\n\\nTable 1: Maximum path lengths, per-layer complexity and minimum number of sequential operations\\nfor different layer types. nis the sequence length, dis the representation dimension, kis the kernel\\nsize of convolutions and rthe size of the neighborhood in restricted self-attention.\\nLayer Type Complexity per Layer Sequential Maximum Path Length\\nOperations\\nSelf-Attention O(n2·d) O(1) O(1)\\nRecurrent O(n·d2) O(n) O(n)\\nConvolutional O(k·n·d2) O(1) O(logk(n))\\nSelf-Attention (restricted) O(r·n·d) O(1) O(n/r)\\n3.5 Positional Encoding\\nSince our model contains no recurrence and no convolution, in order for the model to make use of the\\norder of the sequence, we must inject some information about the relative or absolute position of the\\ntokens in the sequence. To this end, we add \"positional encodings\" to the input embeddings at the\\nbottoms of the encoder and decoder stacks. The positional encodings have the same dimension dmodel\\nas the embeddings, so that the two can be summed. There are many choices of positional encodings,\\nlearned and fixed [9].\\nIn this work, we use sine and cosine functions of different frequencies:\\nPE(pos,2i)=sin(pos/100002i/d model)\\nPE(pos,2i+1)=cos(pos/100002i/d model)\\nwhere posis the position and iis the dimension. That is, each dimension of the positional encoding\\ncorresponds to a sinusoid. The wavelengths form a geometric progression from 2πto10000 ·2π. We\\nchose this function because we hypothesized it would allow the model to easily learn to attend by\\nrelative positions, since for any fixed offset k,PEpos+kcan be represented as a linear function of\\nPEpos.\\nWe also experimented with using learned positional embeddings [ 9] instead, and found that the two\\nversions produced nearly identical results (see Table 3 row (E)). We chose the sinusoidal version\\nbecause it may allow the model to extrapolate to sequence lengths longer than the ones encountered\\nduring training.\\n4 Why Self-Attention\\nIn this section we compare various aspects of self-attention layers to the recurrent and convolu-\\ntional layers commonly used for mapping one variable-length sequence of symbol representations\\n(x1, ..., x n)to another sequence of equal length (z1, ..., z n), with xi, zi∈Rd, such as a hidden\\nlayer in a typical sequence transduction encoder or decoder. Motivating our use of self-attention we\\nconsider three desiderata.\\nOne is the total computational complexity per layer. Another is the amount of computation that can\\nbe parallelized, as measured by the minimum number of sequential operations required.\\nThe third is the path length between long-range dependencies in the network. Learning long-range\\ndependencies is a key challenge in many sequence transduction tasks. One key factor affecting the\\nability to learn such dependencies is the length of the paths forward and backward signals have to\\ntraverse in the network. The shorter these paths between any combination of positions in the input\\nand output sequences, the easier it is to learn long-range dependencies [ 12]. Hence we also compare\\nthe maximum path length between any two input and output positions in networks composed of the\\ndifferent layer types.\\nAs noted in Table 1, a self-attention layer connects all positions with a constant number of sequentially\\nexecuted operations, whereas a recurrent layer requires O(n)sequential operations. In terms of\\ncomputational complexity, self-attention layers are faster than recurrent layers when the sequence\\n6'),\n",
              " Document(page_content='Table 4: The Transformer generalizes well to English constituency parsing (Results are on Section 23\\nof WSJ)\\nParser Training WSJ 23 F1\\nVinyals & Kaiser el al. (2014) [37] WSJ only, discriminative 88.3\\nPetrov et al. (2006) [29] WSJ only, discriminative 90.4\\nZhu et al. (2013) [40] WSJ only, discriminative 90.4\\nDyer et al. (2016) [8] WSJ only, discriminative 91.7\\nTransformer (4 layers) WSJ only, discriminative 91.3\\nZhu et al. (2013) [40] semi-supervised 91.3\\nHuang & Harper (2009) [14] semi-supervised 91.3\\nMcClosky et al. (2006) [26] semi-supervised 92.1\\nVinyals & Kaiser el al. (2014) [37] semi-supervised 92.1\\nTransformer (4 layers) semi-supervised 92.7\\nLuong et al. (2015) [23] multi-task 93.0\\nDyer et al. (2016) [8] generative 93.3\\nincreased the maximum output length to input length + 300. We used a beam size of 21andα= 0.3\\nfor both WSJ only and the semi-supervised setting.\\nOur results in Table 4 show that despite the lack of task-specific tuning our model performs sur-\\nprisingly well, yielding better results than all previously reported models with the exception of the\\nRecurrent Neural Network Grammar [8].\\nIn contrast to RNN sequence-to-sequence models [ 37], the Transformer outperforms the Berkeley-\\nParser [29] even when training only on the WSJ training set of 40K sentences.\\n7 Conclusion\\nIn this work, we presented the Transformer, the first sequence transduction model based entirely on\\nattention, replacing the recurrent layers most commonly used in encoder-decoder architectures with\\nmulti-headed self-attention.\\nFor translation tasks, the Transformer can be trained significantly faster than architectures based\\non recurrent or convolutional layers. On both WMT 2014 English-to-German and WMT 2014\\nEnglish-to-French translation tasks, we achieve a new state of the art. In the former task our best\\nmodel outperforms even all previously reported ensembles.\\nWe are excited about the future of attention-based models and plan to apply them to other tasks. We\\nplan to extend the Transformer to problems involving input and output modalities other than text and\\nto investigate local, restricted attention mechanisms to efficiently handle large inputs and outputs\\nsuch as images, audio and video. Making generation less sequential is another research goals of ours.\\nThe code we used to train and evaluate our models is available at https://github.com/\\ntensorflow/tensor2tensor .\\nAcknowledgements We are grateful to Nal Kalchbrenner and Stephan Gouws for their fruitful\\ncomments, corrections and inspiration.\\nReferences\\n[1]Jimmy Lei Ba, Jamie Ryan Kiros, and Geoffrey E Hinton. Layer normalization. arXiv preprint\\narXiv:1607.06450 , 2016.\\n[2]Dzmitry Bahdanau, Kyunghyun Cho, and Yoshua Bengio. Neural machine translation by jointly\\nlearning to align and translate. CoRR , abs/1409.0473, 2014.\\n[3]Denny Britz, Anna Goldie, Minh-Thang Luong, and Quoc V . Le. Massive exploration of neural\\nmachine translation architectures. CoRR , abs/1703.03906, 2017.\\n[4]Jianpeng Cheng, Li Dong, and Mirella Lapata. Long short-term memory-networks for machine\\nreading. arXiv preprint arXiv:1601.06733 , 2016.\\n10\\n\\n[5]Kyunghyun Cho, Bart van Merrienboer, Caglar Gulcehre, Fethi Bougares, Holger Schwenk,\\nand Yoshua Bengio. Learning phrase representations using rnn encoder-decoder for statistical\\nmachine translation. CoRR , abs/1406.1078, 2014.\\n[6]Francois Chollet. Xception: Deep learning with depthwise separable convolutions. arXiv\\npreprint arXiv:1610.02357 , 2016.\\n[7]Junyoung Chung, Çaglar Gülçehre, Kyunghyun Cho, and Yoshua Bengio. Empirical evaluation\\nof gated recurrent neural networks on sequence modeling. CoRR , abs/1412.3555, 2014.\\n[8]Chris Dyer, Adhiguna Kuncoro, Miguel Ballesteros, and Noah A. Smith. Recurrent neural\\nnetwork grammars. In Proc. of NAACL , 2016.\\n[9]Jonas Gehring, Michael Auli, David Grangier, Denis Yarats, and Yann N. Dauphin. Convolu-\\ntional sequence to sequence learning. arXiv preprint arXiv:1705.03122v2 , 2017.\\n[10] Alex Graves. Generating sequences with recurrent neural networks. arXiv preprint\\narXiv:1308.0850 , 2013.\\n[11] Kaiming He, Xiangyu Zhang, Shaoqing Ren, and Jian Sun. Deep residual learning for im-\\nage recognition. In Proceedings of the IEEE Conference on Computer Vision and Pattern\\nRecognition , pages 770–778, 2016.\\n[12] Sepp Hochreiter, Yoshua Bengio, Paolo Frasconi, and Jürgen Schmidhuber. Gradient flow in\\nrecurrent nets: the difficulty of learning long-term dependencies, 2001.\\n[13] Sepp Hochreiter and Jürgen Schmidhuber. Long short-term memory. Neural computation ,\\n9(8):1735–1780, 1997.\\n[14] Zhongqiang Huang and Mary Harper. Self-training PCFG grammars with latent annotations\\nacross languages. In Proceedings of the 2009 Conference on Empirical Methods in Natural\\nLanguage Processing , pages 832–841. ACL, August 2009.\\n[15] Rafal Jozefowicz, Oriol Vinyals, Mike Schuster, Noam Shazeer, and Yonghui Wu. Exploring\\nthe limits of language modeling. arXiv preprint arXiv:1602.02410 , 2016.\\n[16] Łukasz Kaiser and Samy Bengio. Can active memory replace attention? In Advances in Neural\\nInformation Processing Systems, (NIPS) , 2016.\\n[17] Łukasz Kaiser and Ilya Sutskever. Neural GPUs learn algorithms. In International Conference\\non Learning Representations (ICLR) , 2016.\\n[18] Nal Kalchbrenner, Lasse Espeholt, Karen Simonyan, Aaron van den Oord, Alex Graves, and Ko-\\nray Kavukcuoglu. Neural machine translation in linear time. arXiv preprint arXiv:1610.10099v2 ,\\n2017.\\n[19] Yoon Kim, Carl Denton, Luong Hoang, and Alexander M. Rush. Structured attention networks.\\nInInternational Conference on Learning Representations , 2017.\\n[20] Diederik Kingma and Jimmy Ba. Adam: A method for stochastic optimization. In ICLR , 2015.\\n[21] Oleksii Kuchaiev and Boris Ginsburg. Factorization tricks for LSTM networks. arXiv preprint\\narXiv:1703.10722 , 2017.\\n[22] Zhouhan Lin, Minwei Feng, Cicero Nogueira dos Santos, Mo Yu, Bing Xiang, Bowen\\nZhou, and Yoshua Bengio. A structured self-attentive sentence embedding. arXiv preprint\\narXiv:1703.03130 , 2017.\\n[23] Minh-Thang Luong, Quoc V . Le, Ilya Sutskever, Oriol Vinyals, and Lukasz Kaiser. Multi-task\\nsequence to sequence learning. arXiv preprint arXiv:1511.06114 , 2015.\\n[24] Minh-Thang Luong, Hieu Pham, and Christopher D Manning. Effective approaches to attention-\\nbased neural machine translation. arXiv preprint arXiv:1508.04025 , 2015.\\n11\\n\\n[25] Mitchell P Marcus, Mary Ann Marcinkiewicz, and Beatrice Santorini. Building a large annotated\\ncorpus of english: The penn treebank. Computational linguistics , 19(2):313–330, 1993.\\n[26] David McClosky, Eugene Charniak, and Mark Johnson. Effective self-training for parsing. In\\nProceedings of the Human Language Technology Conference of the NAACL, Main Conference ,\\npages 152–159. ACL, June 2006.\\n[27] Ankur Parikh, Oscar Täckström, Dipanjan Das, and Jakob Uszkoreit. A decomposable attention\\nmodel. In Empirical Methods in Natural Language Processing , 2016.\\n[28] Romain Paulus, Caiming Xiong, and Richard Socher. A deep reinforced model for abstractive\\nsummarization. arXiv preprint arXiv:1705.04304 , 2017.\\n[29] Slav Petrov, Leon Barrett, Romain Thibaux, and Dan Klein. Learning accurate, compact,\\nand interpretable tree annotation. In Proceedings of the 21st International Conference on\\nComputational Linguistics and 44th Annual Meeting of the ACL , pages 433–440. ACL, July\\n2006.\\n[30] Ofir Press and Lior Wolf. Using the output embedding to improve language models. arXiv\\npreprint arXiv:1608.05859 , 2016.\\n[31] Rico Sennrich, Barry Haddow, and Alexandra Birch. Neural machine translation of rare words\\nwith subword units. arXiv preprint arXiv:1508.07909 , 2015.\\n[32] Noam Shazeer, Azalia Mirhoseini, Krzysztof Maziarz, Andy Davis, Quoc Le, Geoffrey Hinton,\\nand Jeff Dean. Outrageously large neural networks: The sparsely-gated mixture-of-experts\\nlayer. arXiv preprint arXiv:1701.06538 , 2017.\\n[33] Nitish Srivastava, Geoffrey E Hinton, Alex Krizhevsky, Ilya Sutskever, and Ruslan Salakhutdi-\\nnov. Dropout: a simple way to prevent neural networks from overfitting. Journal of Machine\\nLearning Research , 15(1):1929–1958, 2014.\\n[34] Sainbayar Sukhbaatar, Arthur Szlam, Jason Weston, and Rob Fergus. End-to-end memory\\nnetworks. In C. Cortes, N. D. Lawrence, D. D. Lee, M. Sugiyama, and R. Garnett, editors,\\nAdvances in Neural Information Processing Systems 28 , pages 2440–2448. Curran Associates,\\nInc., 2015.\\n[35] Ilya Sutskever, Oriol Vinyals, and Quoc VV Le. Sequence to sequence learning with neural\\nnetworks. In Advances in Neural Information Processing Systems , pages 3104–3112, 2014.\\n[36] Christian Szegedy, Vincent Vanhoucke, Sergey Ioffe, Jonathon Shlens, and Zbigniew Wojna.\\nRethinking the inception architecture for computer vision. CoRR , abs/1512.00567, 2015.\\n[37] Vinyals & Kaiser, Koo, Petrov, Sutskever, and Hinton. Grammar as a foreign language. In\\nAdvances in Neural Information Processing Systems , 2015.\\n[38] Yonghui Wu, Mike Schuster, Zhifeng Chen, Quoc V Le, Mohammad Norouzi, Wolfgang\\nMacherey, Maxim Krikun, Yuan Cao, Qin Gao, Klaus Macherey, et al. Google’s neural machine\\ntranslation system: Bridging the gap between human and machine translation. arXiv preprint\\narXiv:1609.08144 , 2016.\\n[39] Jie Zhou, Ying Cao, Xuguang Wang, Peng Li, and Wei Xu. Deep recurrent models with\\nfast-forward connections for neural machine translation. CoRR , abs/1606.04199, 2016.\\n[40] Muhua Zhu, Yue Zhang, Wenliang Chen, Min Zhang, and Jingbo Zhu. Fast and accurate\\nshift-reduce constituent parsing. In Proceedings of the 51st Annual Meeting of the ACL (Volume\\n1: Long Papers) , pages 434–443. ACL, August 2013.\\n12'),\n",
              " Document(page_content=\"Chapter 1  \\nLOG ENTRY: SOL 6  \\nI’m pretty much fucked. That’s my considered opinion. Fucked. Six days in to what should be a greatest \\ntwo months of my life, and it’s turned in to a nightmare. I don’t even know who’ll read this. I guess \\nsomeone will find it eventually. Maybe a hundred years from now. For the record… I didn’t die on Sol 6. \\nCertainly,  the rest of the crew thought I did, and I can’t blame them. Maybe there’ll be a day of national \\nmourning for me, and my Wikipedia page will say “Mark Watney is the only human being to have died \\non Mars.” And it’ll be right, probably. Cause I’ll surely die  here. Just not on Sol 6 when everyone thinks I \\ndid. Let’s see… where do I begin? The Ares program. Mankind reaching out to Mars to send people to \\nanother planet for the very first time and expand the horizons of humanity blah, blah, blah. The Ares 1 \\ncrew did their thing and came back heroes. They got the parades and fame and love of the world. Ares 2 \\ndid the same thing, in a different location on Mars. They got a firm handshake and a hot cup of coffee \\nwhen they got home. Ares 3. Well. That was my mission. Well, not mine per se. Commander Lewis was \\nin charge. I was just one of her crew. Actually, I was the very lowest ranked member of the crew. I would \\nonly be “in command” of the mission if I were the only remaining person. What do you know? I’m in \\ncommand. I wonder if this log will be recovered before the rest of the crew die of old age? I presume \\nthey got back to Earth all right. Well, guys, if you’re reading this: It wasn’t your fault. You did what you \\nhad to do. In your position I would have done the same  thing. I don’t blame you, and I’m glad you \\nsurvived. I guess I should explain how Mars missions work, for any layman who may be reading this. We \\ngot to earth orbit the normal way, through an ordinary ship to Hermes. All the Ares missions use Hermes \\nto get  to and from Mars. It’s really big and cost a lot so NASA only built one. Once we got to Hermes, \\nfour additional unmanned missions brought us fuel and supplies while we prepared for our trip. Once \\neverything was a go, we set out for Mars. But not very fast . Gone are the days of heavy chemical fuel \\nburns and trans -Mars injection orbits. Hermes is powered by ion engines. They throw Argon out the \\nback of the ship really fast to get a tiny amount of acceleration. The thing is, it doesn't take much \\nreactant mass , so a little Argon (and a nuclear reactor to power things) let us accelerate constantly the \\nwhole way there. You'd be amazed at how fast you can get going with a tiny acceleration over a long \\ntime. I could regale you with tales of how we had great fun on the trip, but I won’t. We did have fun, but \\nI don’t feel like reliving it right now. Suffice it to say we got to Mars 124 days later without strangling \\neach other. From there, we took the MDV (Mars Descent Vehicle) to the surface. The MDV is basically a \\nbig can with some light thrusters and parachutes attached. Its sole purpose is to get six humans from \\nMars orbit to the surface without killing any of them. And now we come to the real trick of Mars \\nexploration: Having all our shit there in advance. A total of 14 unmanned missions deposited everything \\nwe would need for surface operations. They tried their best to land all the supply vessels in the same \\ngeneral area, and did a reasonably good job. Supplies aren’t nearly so fragile as humans and can hit the \\nground really hard. But they tended to bounce around a lot. Naturally, they didn’t send us to Mars until \\nthey’d confirmed all the supplies had made it to the surface and their containers weren’t breached. Start \\nto finish, including supply missions, a Mars mis sion takes about 3 years. In fact, there were Ares 3 \\nsupplies en route to Mars while the Ares 2 crew were on their way home. The most important piece of \\nthe advance supplies, of course, was the MAV. The “Mars Ascent Vehicle.” That was how we would get\\n\\nthe advance supplies, of course, was the MAV. The “Mars Ascent Vehicle.” That was how we would get \\nback  to Hermes after surface operations were complete. The MAV was softlanded (as opposed to the \\nballoon bounce -fest the other supplies had). Of course, it was in constant communication with Houston, \\nand if there were any problems with it, we would pass by Mar s and go back to Earth without ever\\n\\nlanding. The MAV is pretty cool. Turns out, through a neat set of chemical reactions with the Martian \\natmosphere, for every kilogram of hydrogen you bring to Mars, you can make 13 kilograms of fuel. It’s a \\nslow process, though. It takes 24 months to fill t he tank. That’s why they sent it long before we got here. \\nYou can imagine how disappointed I was when I discovered the MAV was gone. It was a ridiculous \\nsequence of events that led to me almost dying. Then an even more ridiculous sequence that led to me \\nsurviving. The mission is designed to handle sandstorm gusts up to 150 km/hr. So Houston got \\nunderstandably nervous when we got whacked with 175 km/hr winds. We all got in our suits and \\nhuddled in the middle of the Hab, just in case it lost pressure. But the  Hab wasn’t the problem. The MAV \\nis a spaceship. It has a lot of delicate parts. It can put up with storms to a certain extent but it can’t just \\nget sandblasted forever. After an hour and a half of sustained wind, NASA gave the order to abort. \\nNobody wante d to stop a month -long mission after only six days but if the MAV took any more \\npunishment we’d all get stranded down here. We had to go out in the storm to get from the Hab to the \\nMAV. That was going to be risky, but what choice did we have? Everyone made  it but me. Our main \\ncommunications dish, which relayed signals from the Hab to Hermes, acted like a parachute, getting \\ntorn from its foundation and carried with the torrent. Along the way, it crashed through the reception \\nantenna array. Then one of those long thin antennae slammed in to me end first. It tore through my suit \\nlike a bullet through butter and I felt the worst pain of my life as it ripped open my side. I vaguely \\nremember suddenly having the wind knocked out of me (pulled out of me, really) and  my ears popping \\npainfully as the pressure of my suit escaped. The last thing I remember was seeing Johanssen hopelessly \\nreaching out toward me. I awoke to the oxygen alarm in my suit. A steady, obnoxious beeping that \\neventually roused me from a deep and p rofound desire to just fucking die. The storm had abated; I was \\nface down, almost totally buried in sand. As I groggily came to, I wondered why I wasn’t more dead. The \\nantenna had enough force to punch through the suit and my side, but then it got stopped by my pelvis. \\nSo there was only one hole in the suit (and a hole in me, of course). I had been knocked back quite a \\nways and rolled down a steep hill. Somehow I landed face down, which forced the antenna to a strongly \\noblique angle that put a lot of torque  on the hole in the suit. It made a weak seal. Then, the copious \\nblood from my wound trickled down toward the hole. As the blood reached the site of the breach, the \\nwater in it quickly evaporated from the airflow and low pressure, leaving only a gunky resi due behind. \\nMore blood came in behind it and was also reduced to gunk. Eventually, the blood sealed the gaps \\naround the hole and reduced the leak to something the suit could counteract. The suit did its job \\nadmirably. Seeing the drop in pressure, it consta ntly flooded itself with air from my nitrogen tank to \\nequalize. Once the leak became manageable, it only had to trickle new air in slowly the relieve the air \\nlost. After a while, the CO2 (carbon dioxide) absorbers in the suit were expended. That’s really t he \\nlimiting factor to life support. Not the amount of oxygen you bring with you, but the amount of CO2 you \\ncan remove. In the Hab, we had the Oxygenator, a large piece of equipment that could break CO2 apart \\nand give the oxygen back. But the spacesuits had  to be portable, so they used a simple chemical \\nabsorption process with expendable filters. I’d been asleep long enough that my filters were useless. \\nThe suit saw this problem and moved in to an emergency mode the engineers call “bloodletting”. Having \\nno w ay to separate out the CO2, the suit deliberately vented air to the Martian atmosphere, then back -\\n\\nno w ay to separate out the CO2, the suit deliberately vented air to the Martian atmosphere, then back -\\nfilled with nitrogen. Between the breach and the bloodletting, it quickly ran out of nitrogen. All it had \\nleft was my oxygen tank. So it did the only thing it  could to keep me alive. It started backfilling with pure \\noxygen. I now risked dying from oxygen toxicity, as the excessively high amount of oxygen threatened to \\nburn up my nervous system, lungs, and eyes. An ironic death for someone with a leaky space sui t: too \\nmuch oxygen. Every step of the way would have had beeping alarms, alerts, and warnings. But it was the\"),\n",
              " Document(page_content=\"Chapter 1  \\nLOG ENTRY: SOL 6  \\nI’m pretty much fucked. That’s my considered opinion. Fucked. Six days in to what should be a greatest \\ntwo months of my life, and it’s turned in to a nightmare. I don’t even know who’ll read this. I guess \\nsomeone will find it eventually. Maybe a hundred years from now. For the record… I didn’t die on Sol 6. \\nCertainly,  the rest of the crew thought I did, and I can’t blame them. Maybe there’ll be a day of national \\nmourning for me, and my Wikipedia page will say “Mark Watney is the only human being to have died \\non Mars.” And it’ll be right, probably. Cause I’ll surely die  here. Just not on Sol 6 when everyone thinks I \\ndid. Let’s see… where do I begin? The Ares program. Mankind reaching out to Mars to send people to \\nanother planet for the very first time and expand the horizons of humanity blah, blah, blah. The Ares 1 \\ncrew did their thing and came back heroes. They got the parades and fame and love of the world. Ares 2 \\ndid the same thing, in a different location on Mars. They got a firm handshake and a hot cup of coffee \\nwhen they got home. Ares 3. Well. That was my mission. Well, not mine per se. Commander Lewis was \\nin charge. I was just one of her crew. Actually, I was the very lowest ranked member of the crew. I would \\nonly be “in command” of the mission if I were the only remaining person. What do you know? I’m in \\ncommand. I wonder if this log will be recovered before the rest of the crew die of old age? I presume \\nthey got back to Earth all right. Well, guys, if you’re reading this: It wasn’t your fault. You did what you \\nhad to do. In your position I would have done the same  thing. I don’t blame you, and I’m glad you \\nsurvived. I guess I should explain how Mars missions work, for any layman who may be reading this. We \\ngot to earth orbit the normal way, through an ordinary ship to Hermes. All the Ares missions use Hermes \\nto get  to and from Mars. It’s really big and cost a lot so NASA only built one. Once we got to Hermes, \\nfour additional unmanned missions brought us fuel and supplies while we prepared for our trip. Once \\neverything was a go, we set out for Mars. But not very fast . Gone are the days of heavy chemical fuel \\nburns and trans -Mars injection orbits. Hermes is powered by ion engines. They throw Argon out the \\nback of the ship really fast to get a tiny amount of acceleration. The thing is, it doesn't take much \\nreactant mass , so a little Argon (and a nuclear reactor to power things) let us accelerate constantly the \\nwhole way there. You'd be amazed at how fast you can get going with a tiny acceleration over a long \\ntime. I could regale you with tales of how we had great fun on the trip, but I won’t. We did have fun, but \\nI don’t feel like reliving it right now. Suffice it to say we got to Mars 124 days later without strangling \\neach other. From there, we took the MDV (Mars Descent Vehicle) to the surface. The MDV is basically a \\nbig can with some light thrusters and parachutes attached. Its sole purpose is to get six humans from \\nMars orbit to the surface without killing any of them. And now we come to the real trick of Mars \\nexploration: Having all our shit there in advance. A total of 14 unmanned missions deposited everything \\nwe would need for surface operations. They tried their best to land all the supply vessels in the same \\ngeneral area, and did a reasonably good job. Supplies aren’t nearly so fragile as humans and can hit the \\nground really hard. But they tended to bounce around a lot. Naturally, they didn’t send us to Mars until \\nthey’d confirmed all the supplies had made it to the surface and their containers weren’t breached. Start \\nto finish, including supply missions, a Mars mis sion takes about 3 years. In fact, there were Ares 3 \\nsupplies en route to Mars while the Ares 2 crew were on their way home. The most important piece of \\nthe advance supplies, of course, was the MAV. The “Mars Ascent Vehicle.” That was how we would get\\n\\nthe advance supplies, of course, was the MAV. The “Mars Ascent Vehicle.” That was how we would get \\nback  to Hermes after surface operations were complete. The MAV was softlanded (as opposed to the \\nballoon bounce -fest the other supplies had). Of course, it was in constant communication with Houston, \\nand if there were any problems with it, we would pass by Mar s and go back to Earth without ever\\n\\nlanding. The MAV is pretty cool. Turns out, through a neat set of chemical reactions with the Martian \\natmosphere, for every kilogram of hydrogen you bring to Mars, you can make 13 kilograms of fuel. It’s a \\nslow process, though. It takes 24 months to fill t he tank. That’s why they sent it long before we got here. \\nYou can imagine how disappointed I was when I discovered the MAV was gone. It was a ridiculous \\nsequence of events that led to me almost dying. Then an even more ridiculous sequence that led to me \\nsurviving. The mission is designed to handle sandstorm gusts up to 150 km/hr. So Houston got \\nunderstandably nervous when we got whacked with 175 km/hr winds. We all got in our suits and \\nhuddled in the middle of the Hab, just in case it lost pressure. But the  Hab wasn’t the problem. The MAV \\nis a spaceship. It has a lot of delicate parts. It can put up with storms to a certain extent but it can’t just \\nget sandblasted forever. After an hour and a half of sustained wind, NASA gave the order to abort. \\nNobody wante d to stop a month -long mission after only six days but if the MAV took any more \\npunishment we’d all get stranded down here. We had to go out in the storm to get from the Hab to the \\nMAV. That was going to be risky, but what choice did we have? Everyone made  it but me. Our main \\ncommunications dish, which relayed signals from the Hab to Hermes, acted like a parachute, getting \\ntorn from its foundation and carried with the torrent. Along the way, it crashed through the reception \\nantenna array. Then one of those long thin antennae slammed in to me end first. It tore through my suit \\nlike a bullet through butter and I felt the worst pain of my life as it ripped open my side. I vaguely \\nremember suddenly having the wind knocked out of me (pulled out of me, really) and  my ears popping \\npainfully as the pressure of my suit escaped. The last thing I remember was seeing Johanssen hopelessly \\nreaching out toward me. I awoke to the oxygen alarm in my suit. A steady, obnoxious beeping that \\neventually roused me from a deep and p rofound desire to just fucking die. The storm had abated; I was \\nface down, almost totally buried in sand. As I groggily came to, I wondered why I wasn’t more dead. The \\nantenna had enough force to punch through the suit and my side, but then it got stopped by my pelvis. \\nSo there was only one hole in the suit (and a hole in me, of course). I had been knocked back quite a \\nways and rolled down a steep hill. Somehow I landed face down, which forced the antenna to a strongly \\noblique angle that put a lot of torque  on the hole in the suit. It made a weak seal. Then, the copious \\nblood from my wound trickled down toward the hole. As the blood reached the site of the breach, the \\nwater in it quickly evaporated from the airflow and low pressure, leaving only a gunky resi due behind. \\nMore blood came in behind it and was also reduced to gunk. Eventually, the blood sealed the gaps \\naround the hole and reduced the leak to something the suit could counteract. The suit did its job \\nadmirably. Seeing the drop in pressure, it consta ntly flooded itself with air from my nitrogen tank to \\nequalize. Once the leak became manageable, it only had to trickle new air in slowly the relieve the air \\nlost. After a while, the CO2 (carbon dioxide) absorbers in the suit were expended. That’s really t he \\nlimiting factor to life support. Not the amount of oxygen you bring with you, but the amount of CO2 you \\ncan remove. In the Hab, we had the Oxygenator, a large piece of equipment that could break CO2 apart \\nand give the oxygen back. But the spacesuits had  to be portable, so they used a simple chemical \\nabsorption process with expendable filters. I’d been asleep long enough that my filters were useless. \\nThe suit saw this problem and moved in to an emergency mode the engineers call “bloodletting”. Having \\nno w ay to separate out the CO2, the suit deliberately vented air to the Martian atmosphere, then back -\\n\\nno w ay to separate out the CO2, the suit deliberately vented air to the Martian atmosphere, then back -\\nfilled with nitrogen. Between the breach and the bloodletting, it quickly ran out of nitrogen. All it had \\nleft was my oxygen tank. So it did the only thing it  could to keep me alive. It started backfilling with pure \\noxygen. I now risked dying from oxygen toxicity, as the excessively high amount of oxygen threatened to \\nburn up my nervous system, lungs, and eyes. An ironic death for someone with a leaky space sui t: too \\nmuch oxygen. Every step of the way would have had beeping alarms, alerts, and warnings. But it was the\")]"
            ]
          },
          "metadata": {},
          "execution_count": 193
        }
      ]
    }
  ],
  "metadata": {
    "kernelspec": {
      "display_name": "Python (GPU)",
      "language": "python",
      "name": "gpu_env"
    },
    "language_info": {
      "codemirror_mode": {
        "name": "ipython",
        "version": 3
      },
      "file_extension": ".py",
      "mimetype": "text/x-python",
      "name": "python",
      "nbconvert_exporter": "python",
      "pygments_lexer": "ipython3",
      "version": "3.9.13"
    },
    "colab": {
      "provenance": []
    }
  },
  "nbformat": 4,
  "nbformat_minor": 5
}